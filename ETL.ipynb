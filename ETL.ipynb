{
 "metadata": {
  "language_info": {
   "codemirror_mode": {
    "name": "ipython",
    "version": 3
   },
   "file_extension": ".py",
   "mimetype": "text/x-python",
   "name": "python",
   "nbconvert_exporter": "python",
   "pygments_lexer": "ipython3",
   "version": "3.8.5-final"
  },
  "orig_nbformat": 2,
  "kernelspec": {
   "name": "python3",
   "display_name": "Python 3.8.5 64-bit (conda)",
   "metadata": {
    "interpreter": {
     "hash": "25dd71d175dacbdc7bc6f0737688b24d317e1ba140395f48d297e2109389b449"
    }
   }
  }
 },
 "nbformat": 4,
 "nbformat_minor": 2,
 "cells": [
  {
   "cell_type": "code",
   "execution_count": 277,
   "metadata": {},
   "outputs": [],
   "source": [
    "import matplotlib.pyplot as plt \n",
    "import pandas as pd\n",
    "\n",
    "import numpy as np\n"
   ]
  },
  {
   "cell_type": "code",
   "execution_count": 34,
   "metadata": {},
   "outputs": [],
   "source": []
  },
  {
   "cell_type": "code",
   "execution_count": 278,
   "metadata": {},
   "outputs": [],
   "source": [
    "covid_data = pd.read_csv(\"covid_data_original.csv\", low_memory=False)"
   ]
  },
  {
   "cell_type": "code",
   "execution_count": 279,
   "metadata": {},
   "outputs": [
    {
     "output_type": "execute_result",
     "data": {
      "text/plain": [
       "  iso_code continent     location        date  total_cases  new_cases  \\\n",
       "0      AFG      Asia  Afghanistan  24/02/2020          1.0        1.0   \n",
       "1      AFG      Asia  Afghanistan  25/02/2020          1.0        0.0   \n",
       "2      AFG      Asia  Afghanistan  26/02/2020          1.0        0.0   \n",
       "3      AFG      Asia  Afghanistan  27/02/2020          1.0        0.0   \n",
       "4      AFG      Asia  Afghanistan  28/02/2020          1.0        0.0   \n",
       "\n",
       "   new_cases_smoothed  total_deaths  new_deaths  new_deaths_smoothed  ...  \\\n",
       "0                 NaN           NaN         NaN                  NaN  ...   \n",
       "1                 NaN           NaN         NaN                  NaN  ...   \n",
       "2                 NaN           NaN         NaN                  NaN  ...   \n",
       "3                 NaN           NaN         NaN                  NaN  ...   \n",
       "4                 NaN           NaN         NaN                  NaN  ...   \n",
       "\n",
       "   gdp_per_capita  extreme_poverty  cardiovasc_death_rate  \\\n",
       "0        1803.987              NaN                597.029   \n",
       "1        1803.987              NaN                597.029   \n",
       "2        1803.987              NaN                597.029   \n",
       "3        1803.987              NaN                597.029   \n",
       "4        1803.987              NaN                597.029   \n",
       "\n",
       "   diabetes_prevalence  female_smokers  male_smokers  handwashing_facilities  \\\n",
       "0                 9.59             NaN           NaN                  37.746   \n",
       "1                 9.59             NaN           NaN                  37.746   \n",
       "2                 9.59             NaN           NaN                  37.746   \n",
       "3                 9.59             NaN           NaN                  37.746   \n",
       "4                 9.59             NaN           NaN                  37.746   \n",
       "\n",
       "   hospital_beds_per_thousand  life_expectancy  human_development_index  \n",
       "0                         0.5            64.83                    0.511  \n",
       "1                         0.5            64.83                    0.511  \n",
       "2                         0.5            64.83                    0.511  \n",
       "3                         0.5            64.83                    0.511  \n",
       "4                         0.5            64.83                    0.511  \n",
       "\n",
       "[5 rows x 59 columns]"
      ],
      "text/html": "<div>\n<style scoped>\n    .dataframe tbody tr th:only-of-type {\n        vertical-align: middle;\n    }\n\n    .dataframe tbody tr th {\n        vertical-align: top;\n    }\n\n    .dataframe thead th {\n        text-align: right;\n    }\n</style>\n<table border=\"1\" class=\"dataframe\">\n  <thead>\n    <tr style=\"text-align: right;\">\n      <th></th>\n      <th>iso_code</th>\n      <th>continent</th>\n      <th>location</th>\n      <th>date</th>\n      <th>total_cases</th>\n      <th>new_cases</th>\n      <th>new_cases_smoothed</th>\n      <th>total_deaths</th>\n      <th>new_deaths</th>\n      <th>new_deaths_smoothed</th>\n      <th>...</th>\n      <th>gdp_per_capita</th>\n      <th>extreme_poverty</th>\n      <th>cardiovasc_death_rate</th>\n      <th>diabetes_prevalence</th>\n      <th>female_smokers</th>\n      <th>male_smokers</th>\n      <th>handwashing_facilities</th>\n      <th>hospital_beds_per_thousand</th>\n      <th>life_expectancy</th>\n      <th>human_development_index</th>\n    </tr>\n  </thead>\n  <tbody>\n    <tr>\n      <th>0</th>\n      <td>AFG</td>\n      <td>Asia</td>\n      <td>Afghanistan</td>\n      <td>24/02/2020</td>\n      <td>1.0</td>\n      <td>1.0</td>\n      <td>NaN</td>\n      <td>NaN</td>\n      <td>NaN</td>\n      <td>NaN</td>\n      <td>...</td>\n      <td>1803.987</td>\n      <td>NaN</td>\n      <td>597.029</td>\n      <td>9.59</td>\n      <td>NaN</td>\n      <td>NaN</td>\n      <td>37.746</td>\n      <td>0.5</td>\n      <td>64.83</td>\n      <td>0.511</td>\n    </tr>\n    <tr>\n      <th>1</th>\n      <td>AFG</td>\n      <td>Asia</td>\n      <td>Afghanistan</td>\n      <td>25/02/2020</td>\n      <td>1.0</td>\n      <td>0.0</td>\n      <td>NaN</td>\n      <td>NaN</td>\n      <td>NaN</td>\n      <td>NaN</td>\n      <td>...</td>\n      <td>1803.987</td>\n      <td>NaN</td>\n      <td>597.029</td>\n      <td>9.59</td>\n      <td>NaN</td>\n      <td>NaN</td>\n      <td>37.746</td>\n      <td>0.5</td>\n      <td>64.83</td>\n      <td>0.511</td>\n    </tr>\n    <tr>\n      <th>2</th>\n      <td>AFG</td>\n      <td>Asia</td>\n      <td>Afghanistan</td>\n      <td>26/02/2020</td>\n      <td>1.0</td>\n      <td>0.0</td>\n      <td>NaN</td>\n      <td>NaN</td>\n      <td>NaN</td>\n      <td>NaN</td>\n      <td>...</td>\n      <td>1803.987</td>\n      <td>NaN</td>\n      <td>597.029</td>\n      <td>9.59</td>\n      <td>NaN</td>\n      <td>NaN</td>\n      <td>37.746</td>\n      <td>0.5</td>\n      <td>64.83</td>\n      <td>0.511</td>\n    </tr>\n    <tr>\n      <th>3</th>\n      <td>AFG</td>\n      <td>Asia</td>\n      <td>Afghanistan</td>\n      <td>27/02/2020</td>\n      <td>1.0</td>\n      <td>0.0</td>\n      <td>NaN</td>\n      <td>NaN</td>\n      <td>NaN</td>\n      <td>NaN</td>\n      <td>...</td>\n      <td>1803.987</td>\n      <td>NaN</td>\n      <td>597.029</td>\n      <td>9.59</td>\n      <td>NaN</td>\n      <td>NaN</td>\n      <td>37.746</td>\n      <td>0.5</td>\n      <td>64.83</td>\n      <td>0.511</td>\n    </tr>\n    <tr>\n      <th>4</th>\n      <td>AFG</td>\n      <td>Asia</td>\n      <td>Afghanistan</td>\n      <td>28/02/2020</td>\n      <td>1.0</td>\n      <td>0.0</td>\n      <td>NaN</td>\n      <td>NaN</td>\n      <td>NaN</td>\n      <td>NaN</td>\n      <td>...</td>\n      <td>1803.987</td>\n      <td>NaN</td>\n      <td>597.029</td>\n      <td>9.59</td>\n      <td>NaN</td>\n      <td>NaN</td>\n      <td>37.746</td>\n      <td>0.5</td>\n      <td>64.83</td>\n      <td>0.511</td>\n    </tr>\n  </tbody>\n</table>\n<p>5 rows × 59 columns</p>\n</div>"
     },
     "metadata": {},
     "execution_count": 279
    }
   ],
   "source": [
    "covid_data.head()\n"
   ]
  },
  {
   "source": [],
   "cell_type": "markdown",
   "metadata": {}
  },
  {
   "cell_type": "code",
   "execution_count": 281,
   "metadata": {},
   "outputs": [],
   "source": [
    "df = pd.DataFrame(covid_data)"
   ]
  },
  {
   "cell_type": "code",
   "execution_count": 286,
   "metadata": {},
   "outputs": [
    {
     "output_type": "execute_result",
     "data": {
      "text/plain": [
       "          location  stringency_index population  population_density  \\\n",
       "0      Afghanistan              8.33   38928341              54.422   \n",
       "1      Afghanistan              8.33   38928341              54.422   \n",
       "2      Afghanistan              8.33   38928341              54.422   \n",
       "3      Afghanistan              8.33   38928341              54.422   \n",
       "4      Afghanistan              8.33   38928341              54.422   \n",
       "...            ...               ...        ...                 ...   \n",
       "73988     Zimbabwe             35.19   14862927              42.729   \n",
       "73989     Zimbabwe             35.19   14862927              42.729   \n",
       "73990     Zimbabwe             35.19   14862927              42.729   \n",
       "73991     Zimbabwe               NaN   14862927              42.729   \n",
       "73992     Zimbabwe               NaN   14862927              42.729   \n",
       "\n",
       "       median_age  aged_65_older  aged_70_older  gdp_per_capita  \\\n",
       "0            18.6          2.581          1.337        1803.987   \n",
       "1            18.6          2.581          1.337        1803.987   \n",
       "2            18.6          2.581          1.337        1803.987   \n",
       "3            18.6          2.581          1.337        1803.987   \n",
       "4            18.6          2.581          1.337        1803.987   \n",
       "...           ...            ...            ...             ...   \n",
       "73988        19.6          2.822          1.882        1899.775   \n",
       "73989        19.6          2.822          1.882        1899.775   \n",
       "73990        19.6          2.822          1.882        1899.775   \n",
       "73991        19.6          2.822          1.882        1899.775   \n",
       "73992        19.6          2.822          1.882        1899.775   \n",
       "\n",
       "       extreme_poverty  cardiovasc_death_rate  diabetes_prevalence  \\\n",
       "0                  NaN                597.029                 9.59   \n",
       "1                  NaN                597.029                 9.59   \n",
       "2                  NaN                597.029                 9.59   \n",
       "3                  NaN                597.029                 9.59   \n",
       "4                  NaN                597.029                 9.59   \n",
       "...                ...                    ...                  ...   \n",
       "73988             21.4                307.846                 1.82   \n",
       "73989             21.4                307.846                 1.82   \n",
       "73990             21.4                307.846                 1.82   \n",
       "73991             21.4                307.846                 1.82   \n",
       "73992             21.4                307.846                 1.82   \n",
       "\n",
       "       handwashing_facilities  hospital_beds_per_thousand  life_expectancy  \\\n",
       "0                      37.746                         0.5            64.83   \n",
       "1                      37.746                         0.5            64.83   \n",
       "2                      37.746                         0.5            64.83   \n",
       "3                      37.746                         0.5            64.83   \n",
       "4                      37.746                         0.5            64.83   \n",
       "...                       ...                         ...              ...   \n",
       "73988                  36.791                         1.7            61.49   \n",
       "73989                  36.791                         1.7            61.49   \n",
       "73990                  36.791                         1.7            61.49   \n",
       "73991                  36.791                         1.7            61.49   \n",
       "73992                  36.791                         1.7            61.49   \n",
       "\n",
       "       human_development_index  \n",
       "0                        0.511  \n",
       "1                        0.511  \n",
       "2                        0.511  \n",
       "3                        0.511  \n",
       "4                        0.511  \n",
       "...                        ...  \n",
       "73988                    0.571  \n",
       "73989                    0.571  \n",
       "73990                    0.571  \n",
       "73991                    0.571  \n",
       "73992                    0.571  \n",
       "\n",
       "[73993 rows x 15 columns]"
      ],
      "text/html": "<div>\n<style scoped>\n    .dataframe tbody tr th:only-of-type {\n        vertical-align: middle;\n    }\n\n    .dataframe tbody tr th {\n        vertical-align: top;\n    }\n\n    .dataframe thead th {\n        text-align: right;\n    }\n</style>\n<table border=\"1\" class=\"dataframe\">\n  <thead>\n    <tr style=\"text-align: right;\">\n      <th></th>\n      <th>location</th>\n      <th>stringency_index</th>\n      <th>population</th>\n      <th>population_density</th>\n      <th>median_age</th>\n      <th>aged_65_older</th>\n      <th>aged_70_older</th>\n      <th>gdp_per_capita</th>\n      <th>extreme_poverty</th>\n      <th>cardiovasc_death_rate</th>\n      <th>diabetes_prevalence</th>\n      <th>handwashing_facilities</th>\n      <th>hospital_beds_per_thousand</th>\n      <th>life_expectancy</th>\n      <th>human_development_index</th>\n    </tr>\n  </thead>\n  <tbody>\n    <tr>\n      <th>0</th>\n      <td>Afghanistan</td>\n      <td>8.33</td>\n      <td>38928341</td>\n      <td>54.422</td>\n      <td>18.6</td>\n      <td>2.581</td>\n      <td>1.337</td>\n      <td>1803.987</td>\n      <td>NaN</td>\n      <td>597.029</td>\n      <td>9.59</td>\n      <td>37.746</td>\n      <td>0.5</td>\n      <td>64.83</td>\n      <td>0.511</td>\n    </tr>\n    <tr>\n      <th>1</th>\n      <td>Afghanistan</td>\n      <td>8.33</td>\n      <td>38928341</td>\n      <td>54.422</td>\n      <td>18.6</td>\n      <td>2.581</td>\n      <td>1.337</td>\n      <td>1803.987</td>\n      <td>NaN</td>\n      <td>597.029</td>\n      <td>9.59</td>\n      <td>37.746</td>\n      <td>0.5</td>\n      <td>64.83</td>\n      <td>0.511</td>\n    </tr>\n    <tr>\n      <th>2</th>\n      <td>Afghanistan</td>\n      <td>8.33</td>\n      <td>38928341</td>\n      <td>54.422</td>\n      <td>18.6</td>\n      <td>2.581</td>\n      <td>1.337</td>\n      <td>1803.987</td>\n      <td>NaN</td>\n      <td>597.029</td>\n      <td>9.59</td>\n      <td>37.746</td>\n      <td>0.5</td>\n      <td>64.83</td>\n      <td>0.511</td>\n    </tr>\n    <tr>\n      <th>3</th>\n      <td>Afghanistan</td>\n      <td>8.33</td>\n      <td>38928341</td>\n      <td>54.422</td>\n      <td>18.6</td>\n      <td>2.581</td>\n      <td>1.337</td>\n      <td>1803.987</td>\n      <td>NaN</td>\n      <td>597.029</td>\n      <td>9.59</td>\n      <td>37.746</td>\n      <td>0.5</td>\n      <td>64.83</td>\n      <td>0.511</td>\n    </tr>\n    <tr>\n      <th>4</th>\n      <td>Afghanistan</td>\n      <td>8.33</td>\n      <td>38928341</td>\n      <td>54.422</td>\n      <td>18.6</td>\n      <td>2.581</td>\n      <td>1.337</td>\n      <td>1803.987</td>\n      <td>NaN</td>\n      <td>597.029</td>\n      <td>9.59</td>\n      <td>37.746</td>\n      <td>0.5</td>\n      <td>64.83</td>\n      <td>0.511</td>\n    </tr>\n    <tr>\n      <th>...</th>\n      <td>...</td>\n      <td>...</td>\n      <td>...</td>\n      <td>...</td>\n      <td>...</td>\n      <td>...</td>\n      <td>...</td>\n      <td>...</td>\n      <td>...</td>\n      <td>...</td>\n      <td>...</td>\n      <td>...</td>\n      <td>...</td>\n      <td>...</td>\n      <td>...</td>\n    </tr>\n    <tr>\n      <th>73988</th>\n      <td>Zimbabwe</td>\n      <td>35.19</td>\n      <td>14862927</td>\n      <td>42.729</td>\n      <td>19.6</td>\n      <td>2.822</td>\n      <td>1.882</td>\n      <td>1899.775</td>\n      <td>21.4</td>\n      <td>307.846</td>\n      <td>1.82</td>\n      <td>36.791</td>\n      <td>1.7</td>\n      <td>61.49</td>\n      <td>0.571</td>\n    </tr>\n    <tr>\n      <th>73989</th>\n      <td>Zimbabwe</td>\n      <td>35.19</td>\n      <td>14862927</td>\n      <td>42.729</td>\n      <td>19.6</td>\n      <td>2.822</td>\n      <td>1.882</td>\n      <td>1899.775</td>\n      <td>21.4</td>\n      <td>307.846</td>\n      <td>1.82</td>\n      <td>36.791</td>\n      <td>1.7</td>\n      <td>61.49</td>\n      <td>0.571</td>\n    </tr>\n    <tr>\n      <th>73990</th>\n      <td>Zimbabwe</td>\n      <td>35.19</td>\n      <td>14862927</td>\n      <td>42.729</td>\n      <td>19.6</td>\n      <td>2.822</td>\n      <td>1.882</td>\n      <td>1899.775</td>\n      <td>21.4</td>\n      <td>307.846</td>\n      <td>1.82</td>\n      <td>36.791</td>\n      <td>1.7</td>\n      <td>61.49</td>\n      <td>0.571</td>\n    </tr>\n    <tr>\n      <th>73991</th>\n      <td>Zimbabwe</td>\n      <td>NaN</td>\n      <td>14862927</td>\n      <td>42.729</td>\n      <td>19.6</td>\n      <td>2.822</td>\n      <td>1.882</td>\n      <td>1899.775</td>\n      <td>21.4</td>\n      <td>307.846</td>\n      <td>1.82</td>\n      <td>36.791</td>\n      <td>1.7</td>\n      <td>61.49</td>\n      <td>0.571</td>\n    </tr>\n    <tr>\n      <th>73992</th>\n      <td>Zimbabwe</td>\n      <td>NaN</td>\n      <td>14862927</td>\n      <td>42.729</td>\n      <td>19.6</td>\n      <td>2.822</td>\n      <td>1.882</td>\n      <td>1899.775</td>\n      <td>21.4</td>\n      <td>307.846</td>\n      <td>1.82</td>\n      <td>36.791</td>\n      <td>1.7</td>\n      <td>61.49</td>\n      <td>0.571</td>\n    </tr>\n  </tbody>\n</table>\n<p>73993 rows × 15 columns</p>\n</div>"
     },
     "metadata": {},
     "execution_count": 286
    }
   ],
   "source": [
    "df.drop(columns=['iso_code', 'continent', 'date', 'total_cases', 'new_cases', 'new_cases_smoothed','total_deaths', 'new_deaths','new_deaths_smoothed', 'total_cases_per_million', 'new_cases_per_million', 'new_cases_smoothed_per_million', 'total_deaths_per_million','new_deaths_per_million', 'new_deaths_smoothed_per_million', 'reproduction_rate', 'icu_patients', 'icu_patients_per_million', 'hosp_patients', 'hosp_patients_per_million', 'weekly_icu_admissions', 'weekly_icu_admissions_per_million', 'weekly_hosp_admissions','weekly_hosp_admissions_per_million', 'new_tests', 'total_tests', 'total_tests_per_thousand', 'new_tests_smoothed', 'new_tests_smoothed_per_thousand', 'positive_rate', 'tests_per_case', 'new_tests_per_thousand', 'tests_units', 'total_vaccinations', 'people_vaccinated', 'people_vaccinated_per_hundred', 'people_fully_vaccinated', 'new_vaccinations', 'people_fully_vaccinated_per_hundred', 'female_smokers','male_smokers', 'new_vaccinations_smoothed', 'total_vaccinations_per_hundred', 'new_vaccinations_smoothed_per_million'])"
   ]
  },
  {
   "cell_type": "code",
   "execution_count": 287,
   "metadata": {},
   "outputs": [],
   "source": [
    "grouped_df = df.groupby(['location']);"
   ]
  },
  {
   "cell_type": "code",
   "execution_count": 243,
   "metadata": {},
   "outputs": [
    {
     "output_type": "stream",
     "name": "stdout",
     "text": [
      "<pandas.core.groupby.generic.DataFrameGroupBy object at 0x0000019A8A9443D0>\n"
     ]
    }
   ],
   "source": [
    "print(grouped_df)\n"
   ]
  },
  {
   "cell_type": "code",
   "execution_count": 288,
   "metadata": {},
   "outputs": [
    {
     "output_type": "execute_result",
     "data": {
      "text/plain": [
       "             iso_code  continent  date  total_cases  new_cases  \\\n",
       "location                                                         \n",
       "Afghanistan       381        381   381          381        381   \n",
       "Africa            392          0   392          391        392   \n",
       "Albania           380        380   380          367        367   \n",
       "Algeria           380        380   380          380        380   \n",
       "Andorra           374        374   374          374        374   \n",
       "...               ...        ...   ...          ...        ...   \n",
       "Vietnam           413        413   413          413        413   \n",
       "World             414          0   414          414        414   \n",
       "Yemen             335        335   335          335        335   \n",
       "Zambia            358        358   358          358        358   \n",
       "Zimbabwe          356        356   356          356        356   \n",
       "\n",
       "             new_cases_smoothed  total_deaths  new_deaths  \\\n",
       "location                                                    \n",
       "Afghanistan                 376           354         354   \n",
       "Africa                      386           368         392   \n",
       "Albania                     362           365         365   \n",
       "Algeria                     375           364         364   \n",
       "Andorra                     369           354         354   \n",
       "...                         ...           ...         ...   \n",
       "Vietnam                     408           223         223   \n",
       "World                       408           414         414   \n",
       "Yemen                       330           315         315   \n",
       "Zambia                      353           343         343   \n",
       "Zimbabwe                    351           353         353   \n",
       "\n",
       "             new_deaths_smoothed  total_cases_per_million  ...  \\\n",
       "location                                                   ...   \n",
       "Afghanistan                  376                      381  ...   \n",
       "Africa                       386                      391  ...   \n",
       "Albania                      362                      367  ...   \n",
       "Algeria                      375                      380  ...   \n",
       "Andorra                      369                      374  ...   \n",
       "...                          ...                      ...  ...   \n",
       "Vietnam                      408                      413  ...   \n",
       "World                        408                      414  ...   \n",
       "Yemen                        330                      335  ...   \n",
       "Zambia                       353                      358  ...   \n",
       "Zimbabwe                     351                      356  ...   \n",
       "\n",
       "             gdp_per_capita  extreme_poverty  cardiovasc_death_rate  \\\n",
       "location                                                              \n",
       "Afghanistan             381                0                    381   \n",
       "Africa                    0                0                      0   \n",
       "Albania                 380              380                    380   \n",
       "Algeria                 380              380                    380   \n",
       "Andorra                   0                0                    374   \n",
       "...                     ...              ...                    ...   \n",
       "Vietnam                 413              413                    413   \n",
       "World                   414              414                    414   \n",
       "Yemen                   335              335                    335   \n",
       "Zambia                  358              358                    358   \n",
       "Zimbabwe                356              356                    356   \n",
       "\n",
       "             diabetes_prevalence  female_smokers  male_smokers  \\\n",
       "location                                                         \n",
       "Afghanistan                  381               0             0   \n",
       "Africa                         0               0             0   \n",
       "Albania                      380             380           380   \n",
       "Algeria                      380             380           380   \n",
       "Andorra                      374             374           374   \n",
       "...                          ...             ...           ...   \n",
       "Vietnam                      413             413           413   \n",
       "World                        414             414           414   \n",
       "Yemen                        335             335           335   \n",
       "Zambia                       358             358           358   \n",
       "Zimbabwe                     356             356           356   \n",
       "\n",
       "             handwashing_facilities  hospital_beds_per_thousand  \\\n",
       "location                                                          \n",
       "Afghanistan                     381                         381   \n",
       "Africa                            0                           0   \n",
       "Albania                           0                         380   \n",
       "Algeria                         380                         380   \n",
       "Andorra                           0                           0   \n",
       "...                             ...                         ...   \n",
       "Vietnam                         413                         413   \n",
       "World                           414                         414   \n",
       "Yemen                           335                         335   \n",
       "Zambia                          358                         358   \n",
       "Zimbabwe                        356                         356   \n",
       "\n",
       "             life_expectancy  human_development_index  \n",
       "location                                               \n",
       "Afghanistan              381                      381  \n",
       "Africa                     0                        0  \n",
       "Albania                  380                      380  \n",
       "Algeria                  380                      380  \n",
       "Andorra                  374                      374  \n",
       "...                      ...                      ...  \n",
       "Vietnam                  413                      413  \n",
       "World                    414                      414  \n",
       "Yemen                    335                      335  \n",
       "Zambia                   358                      358  \n",
       "Zimbabwe                 356                      356  \n",
       "\n",
       "[215 rows x 58 columns]"
      ],
      "text/html": "<div>\n<style scoped>\n    .dataframe tbody tr th:only-of-type {\n        vertical-align: middle;\n    }\n\n    .dataframe tbody tr th {\n        vertical-align: top;\n    }\n\n    .dataframe thead th {\n        text-align: right;\n    }\n</style>\n<table border=\"1\" class=\"dataframe\">\n  <thead>\n    <tr style=\"text-align: right;\">\n      <th></th>\n      <th>iso_code</th>\n      <th>continent</th>\n      <th>date</th>\n      <th>total_cases</th>\n      <th>new_cases</th>\n      <th>new_cases_smoothed</th>\n      <th>total_deaths</th>\n      <th>new_deaths</th>\n      <th>new_deaths_smoothed</th>\n      <th>total_cases_per_million</th>\n      <th>...</th>\n      <th>gdp_per_capita</th>\n      <th>extreme_poverty</th>\n      <th>cardiovasc_death_rate</th>\n      <th>diabetes_prevalence</th>\n      <th>female_smokers</th>\n      <th>male_smokers</th>\n      <th>handwashing_facilities</th>\n      <th>hospital_beds_per_thousand</th>\n      <th>life_expectancy</th>\n      <th>human_development_index</th>\n    </tr>\n    <tr>\n      <th>location</th>\n      <th></th>\n      <th></th>\n      <th></th>\n      <th></th>\n      <th></th>\n      <th></th>\n      <th></th>\n      <th></th>\n      <th></th>\n      <th></th>\n      <th></th>\n      <th></th>\n      <th></th>\n      <th></th>\n      <th></th>\n      <th></th>\n      <th></th>\n      <th></th>\n      <th></th>\n      <th></th>\n      <th></th>\n    </tr>\n  </thead>\n  <tbody>\n    <tr>\n      <th>Afghanistan</th>\n      <td>381</td>\n      <td>381</td>\n      <td>381</td>\n      <td>381</td>\n      <td>381</td>\n      <td>376</td>\n      <td>354</td>\n      <td>354</td>\n      <td>376</td>\n      <td>381</td>\n      <td>...</td>\n      <td>381</td>\n      <td>0</td>\n      <td>381</td>\n      <td>381</td>\n      <td>0</td>\n      <td>0</td>\n      <td>381</td>\n      <td>381</td>\n      <td>381</td>\n      <td>381</td>\n    </tr>\n    <tr>\n      <th>Africa</th>\n      <td>392</td>\n      <td>0</td>\n      <td>392</td>\n      <td>391</td>\n      <td>392</td>\n      <td>386</td>\n      <td>368</td>\n      <td>392</td>\n      <td>386</td>\n      <td>391</td>\n      <td>...</td>\n      <td>0</td>\n      <td>0</td>\n      <td>0</td>\n      <td>0</td>\n      <td>0</td>\n      <td>0</td>\n      <td>0</td>\n      <td>0</td>\n      <td>0</td>\n      <td>0</td>\n    </tr>\n    <tr>\n      <th>Albania</th>\n      <td>380</td>\n      <td>380</td>\n      <td>380</td>\n      <td>367</td>\n      <td>367</td>\n      <td>362</td>\n      <td>365</td>\n      <td>365</td>\n      <td>362</td>\n      <td>367</td>\n      <td>...</td>\n      <td>380</td>\n      <td>380</td>\n      <td>380</td>\n      <td>380</td>\n      <td>380</td>\n      <td>380</td>\n      <td>0</td>\n      <td>380</td>\n      <td>380</td>\n      <td>380</td>\n    </tr>\n    <tr>\n      <th>Algeria</th>\n      <td>380</td>\n      <td>380</td>\n      <td>380</td>\n      <td>380</td>\n      <td>380</td>\n      <td>375</td>\n      <td>364</td>\n      <td>364</td>\n      <td>375</td>\n      <td>380</td>\n      <td>...</td>\n      <td>380</td>\n      <td>380</td>\n      <td>380</td>\n      <td>380</td>\n      <td>380</td>\n      <td>380</td>\n      <td>380</td>\n      <td>380</td>\n      <td>380</td>\n      <td>380</td>\n    </tr>\n    <tr>\n      <th>Andorra</th>\n      <td>374</td>\n      <td>374</td>\n      <td>374</td>\n      <td>374</td>\n      <td>374</td>\n      <td>369</td>\n      <td>354</td>\n      <td>354</td>\n      <td>369</td>\n      <td>374</td>\n      <td>...</td>\n      <td>0</td>\n      <td>0</td>\n      <td>374</td>\n      <td>374</td>\n      <td>374</td>\n      <td>374</td>\n      <td>0</td>\n      <td>0</td>\n      <td>374</td>\n      <td>374</td>\n    </tr>\n    <tr>\n      <th>...</th>\n      <td>...</td>\n      <td>...</td>\n      <td>...</td>\n      <td>...</td>\n      <td>...</td>\n      <td>...</td>\n      <td>...</td>\n      <td>...</td>\n      <td>...</td>\n      <td>...</td>\n      <td>...</td>\n      <td>...</td>\n      <td>...</td>\n      <td>...</td>\n      <td>...</td>\n      <td>...</td>\n      <td>...</td>\n      <td>...</td>\n      <td>...</td>\n      <td>...</td>\n      <td>...</td>\n    </tr>\n    <tr>\n      <th>Vietnam</th>\n      <td>413</td>\n      <td>413</td>\n      <td>413</td>\n      <td>413</td>\n      <td>413</td>\n      <td>408</td>\n      <td>223</td>\n      <td>223</td>\n      <td>408</td>\n      <td>413</td>\n      <td>...</td>\n      <td>413</td>\n      <td>413</td>\n      <td>413</td>\n      <td>413</td>\n      <td>413</td>\n      <td>413</td>\n      <td>413</td>\n      <td>413</td>\n      <td>413</td>\n      <td>413</td>\n    </tr>\n    <tr>\n      <th>World</th>\n      <td>414</td>\n      <td>0</td>\n      <td>414</td>\n      <td>414</td>\n      <td>414</td>\n      <td>408</td>\n      <td>414</td>\n      <td>414</td>\n      <td>408</td>\n      <td>414</td>\n      <td>...</td>\n      <td>414</td>\n      <td>414</td>\n      <td>414</td>\n      <td>414</td>\n      <td>414</td>\n      <td>414</td>\n      <td>414</td>\n      <td>414</td>\n      <td>414</td>\n      <td>414</td>\n    </tr>\n    <tr>\n      <th>Yemen</th>\n      <td>335</td>\n      <td>335</td>\n      <td>335</td>\n      <td>335</td>\n      <td>335</td>\n      <td>330</td>\n      <td>315</td>\n      <td>315</td>\n      <td>330</td>\n      <td>335</td>\n      <td>...</td>\n      <td>335</td>\n      <td>335</td>\n      <td>335</td>\n      <td>335</td>\n      <td>335</td>\n      <td>335</td>\n      <td>335</td>\n      <td>335</td>\n      <td>335</td>\n      <td>335</td>\n    </tr>\n    <tr>\n      <th>Zambia</th>\n      <td>358</td>\n      <td>358</td>\n      <td>358</td>\n      <td>358</td>\n      <td>358</td>\n      <td>353</td>\n      <td>343</td>\n      <td>343</td>\n      <td>353</td>\n      <td>358</td>\n      <td>...</td>\n      <td>358</td>\n      <td>358</td>\n      <td>358</td>\n      <td>358</td>\n      <td>358</td>\n      <td>358</td>\n      <td>358</td>\n      <td>358</td>\n      <td>358</td>\n      <td>358</td>\n    </tr>\n    <tr>\n      <th>Zimbabwe</th>\n      <td>356</td>\n      <td>356</td>\n      <td>356</td>\n      <td>356</td>\n      <td>356</td>\n      <td>351</td>\n      <td>353</td>\n      <td>353</td>\n      <td>351</td>\n      <td>356</td>\n      <td>...</td>\n      <td>356</td>\n      <td>356</td>\n      <td>356</td>\n      <td>356</td>\n      <td>356</td>\n      <td>356</td>\n      <td>356</td>\n      <td>356</td>\n      <td>356</td>\n      <td>356</td>\n    </tr>\n  </tbody>\n</table>\n<p>215 rows × 58 columns</p>\n</div>"
     },
     "metadata": {},
     "execution_count": 288
    }
   ],
   "source": [
    "grouped_df.count()"
   ]
  },
  {
   "cell_type": "code",
   "execution_count": 259,
   "metadata": {},
   "outputs": [],
   "source": [
    "# data.rename(columns={'gdp':'log(gdp)'}, inplace=True)\n",
    "df.rename(columns={'location' : 'country'}, inplace =True)"
   ]
  },
  {
   "cell_type": "code",
   "execution_count": 260,
   "metadata": {},
   "outputs": [
    {
     "output_type": "execute_result",
     "data": {
      "text/plain": [
       "      iso_code continent      country        date  total_cases  new_cases  \\\n",
       "0          AFG      Asia  Afghanistan  24/02/2020          1.0        1.0   \n",
       "1          AFG      Asia  Afghanistan  25/02/2020          1.0        0.0   \n",
       "2          AFG      Asia  Afghanistan  26/02/2020          1.0        0.0   \n",
       "3          AFG      Asia  Afghanistan  27/02/2020          1.0        0.0   \n",
       "4          AFG      Asia  Afghanistan  28/02/2020          1.0        0.0   \n",
       "...        ...       ...          ...         ...          ...        ...   \n",
       "73637      ZWE    Africa     Zimbabwe  20/03/2020          1.0        1.0   \n",
       "73638      ZWE    Africa     Zimbabwe  21/03/2020          3.0        2.0   \n",
       "73639      ZWE    Africa     Zimbabwe  22/03/2020          3.0        0.0   \n",
       "73640      ZWE    Africa     Zimbabwe  23/03/2020          3.0        0.0   \n",
       "73641      ZWE    Africa     Zimbabwe  24/03/2020          3.0        0.0   \n",
       "\n",
       "       new_cases_smoothed  total_deaths  new_deaths  new_deaths_smoothed  ...  \\\n",
       "0                     NaN           NaN         NaN                  NaN  ...   \n",
       "1                     NaN           NaN         NaN                  NaN  ...   \n",
       "2                     NaN           NaN         NaN                  NaN  ...   \n",
       "3                     NaN           NaN         NaN                  NaN  ...   \n",
       "4                     NaN           NaN         NaN                  NaN  ...   \n",
       "...                   ...           ...         ...                  ...  ...   \n",
       "73637                 NaN           NaN         NaN                  NaN  ...   \n",
       "73638                 NaN           NaN         NaN                  NaN  ...   \n",
       "73639                 NaN           NaN         NaN                  NaN  ...   \n",
       "73640                 NaN           1.0         1.0                  NaN  ...   \n",
       "73641                 NaN           1.0         0.0                  NaN  ...   \n",
       "\n",
       "       gdp_per_capita  extreme_poverty  cardiovasc_death_rate  \\\n",
       "0            1803.987              NaN                597.029   \n",
       "1            1803.987              NaN                597.029   \n",
       "2            1803.987              NaN                597.029   \n",
       "3            1803.987              NaN                597.029   \n",
       "4            1803.987              NaN                597.029   \n",
       "...               ...              ...                    ...   \n",
       "73637        1899.775             21.4                307.846   \n",
       "73638        1899.775             21.4                307.846   \n",
       "73639        1899.775             21.4                307.846   \n",
       "73640        1899.775             21.4                307.846   \n",
       "73641        1899.775             21.4                307.846   \n",
       "\n",
       "       diabetes_prevalence  female_smokers  male_smokers  \\\n",
       "0                     9.59             NaN           NaN   \n",
       "1                     9.59             NaN           NaN   \n",
       "2                     9.59             NaN           NaN   \n",
       "3                     9.59             NaN           NaN   \n",
       "4                     9.59             NaN           NaN   \n",
       "...                    ...             ...           ...   \n",
       "73637                 1.82             1.6          30.7   \n",
       "73638                 1.82             1.6          30.7   \n",
       "73639                 1.82             1.6          30.7   \n",
       "73640                 1.82             1.6          30.7   \n",
       "73641                 1.82             1.6          30.7   \n",
       "\n",
       "       handwashing_facilities  hospital_beds_per_thousand  life_expectancy  \\\n",
       "0                      37.746                         0.5            64.83   \n",
       "1                      37.746                         0.5            64.83   \n",
       "2                      37.746                         0.5            64.83   \n",
       "3                      37.746                         0.5            64.83   \n",
       "4                      37.746                         0.5            64.83   \n",
       "...                       ...                         ...              ...   \n",
       "73637                  36.791                         1.7            61.49   \n",
       "73638                  36.791                         1.7            61.49   \n",
       "73639                  36.791                         1.7            61.49   \n",
       "73640                  36.791                         1.7            61.49   \n",
       "73641                  36.791                         1.7            61.49   \n",
       "\n",
       "       human_development_index  \n",
       "0                        0.511  \n",
       "1                        0.511  \n",
       "2                        0.511  \n",
       "3                        0.511  \n",
       "4                        0.511  \n",
       "...                        ...  \n",
       "73637                    0.571  \n",
       "73638                    0.571  \n",
       "73639                    0.571  \n",
       "73640                    0.571  \n",
       "73641                    0.571  \n",
       "\n",
       "[1071 rows x 59 columns]"
      ],
      "text/html": "<div>\n<style scoped>\n    .dataframe tbody tr th:only-of-type {\n        vertical-align: middle;\n    }\n\n    .dataframe tbody tr th {\n        vertical-align: top;\n    }\n\n    .dataframe thead th {\n        text-align: right;\n    }\n</style>\n<table border=\"1\" class=\"dataframe\">\n  <thead>\n    <tr style=\"text-align: right;\">\n      <th></th>\n      <th>iso_code</th>\n      <th>continent</th>\n      <th>country</th>\n      <th>date</th>\n      <th>total_cases</th>\n      <th>new_cases</th>\n      <th>new_cases_smoothed</th>\n      <th>total_deaths</th>\n      <th>new_deaths</th>\n      <th>new_deaths_smoothed</th>\n      <th>...</th>\n      <th>gdp_per_capita</th>\n      <th>extreme_poverty</th>\n      <th>cardiovasc_death_rate</th>\n      <th>diabetes_prevalence</th>\n      <th>female_smokers</th>\n      <th>male_smokers</th>\n      <th>handwashing_facilities</th>\n      <th>hospital_beds_per_thousand</th>\n      <th>life_expectancy</th>\n      <th>human_development_index</th>\n    </tr>\n  </thead>\n  <tbody>\n    <tr>\n      <th>0</th>\n      <td>AFG</td>\n      <td>Asia</td>\n      <td>Afghanistan</td>\n      <td>24/02/2020</td>\n      <td>1.0</td>\n      <td>1.0</td>\n      <td>NaN</td>\n      <td>NaN</td>\n      <td>NaN</td>\n      <td>NaN</td>\n      <td>...</td>\n      <td>1803.987</td>\n      <td>NaN</td>\n      <td>597.029</td>\n      <td>9.59</td>\n      <td>NaN</td>\n      <td>NaN</td>\n      <td>37.746</td>\n      <td>0.5</td>\n      <td>64.83</td>\n      <td>0.511</td>\n    </tr>\n    <tr>\n      <th>1</th>\n      <td>AFG</td>\n      <td>Asia</td>\n      <td>Afghanistan</td>\n      <td>25/02/2020</td>\n      <td>1.0</td>\n      <td>0.0</td>\n      <td>NaN</td>\n      <td>NaN</td>\n      <td>NaN</td>\n      <td>NaN</td>\n      <td>...</td>\n      <td>1803.987</td>\n      <td>NaN</td>\n      <td>597.029</td>\n      <td>9.59</td>\n      <td>NaN</td>\n      <td>NaN</td>\n      <td>37.746</td>\n      <td>0.5</td>\n      <td>64.83</td>\n      <td>0.511</td>\n    </tr>\n    <tr>\n      <th>2</th>\n      <td>AFG</td>\n      <td>Asia</td>\n      <td>Afghanistan</td>\n      <td>26/02/2020</td>\n      <td>1.0</td>\n      <td>0.0</td>\n      <td>NaN</td>\n      <td>NaN</td>\n      <td>NaN</td>\n      <td>NaN</td>\n      <td>...</td>\n      <td>1803.987</td>\n      <td>NaN</td>\n      <td>597.029</td>\n      <td>9.59</td>\n      <td>NaN</td>\n      <td>NaN</td>\n      <td>37.746</td>\n      <td>0.5</td>\n      <td>64.83</td>\n      <td>0.511</td>\n    </tr>\n    <tr>\n      <th>3</th>\n      <td>AFG</td>\n      <td>Asia</td>\n      <td>Afghanistan</td>\n      <td>27/02/2020</td>\n      <td>1.0</td>\n      <td>0.0</td>\n      <td>NaN</td>\n      <td>NaN</td>\n      <td>NaN</td>\n      <td>NaN</td>\n      <td>...</td>\n      <td>1803.987</td>\n      <td>NaN</td>\n      <td>597.029</td>\n      <td>9.59</td>\n      <td>NaN</td>\n      <td>NaN</td>\n      <td>37.746</td>\n      <td>0.5</td>\n      <td>64.83</td>\n      <td>0.511</td>\n    </tr>\n    <tr>\n      <th>4</th>\n      <td>AFG</td>\n      <td>Asia</td>\n      <td>Afghanistan</td>\n      <td>28/02/2020</td>\n      <td>1.0</td>\n      <td>0.0</td>\n      <td>NaN</td>\n      <td>NaN</td>\n      <td>NaN</td>\n      <td>NaN</td>\n      <td>...</td>\n      <td>1803.987</td>\n      <td>NaN</td>\n      <td>597.029</td>\n      <td>9.59</td>\n      <td>NaN</td>\n      <td>NaN</td>\n      <td>37.746</td>\n      <td>0.5</td>\n      <td>64.83</td>\n      <td>0.511</td>\n    </tr>\n    <tr>\n      <th>...</th>\n      <td>...</td>\n      <td>...</td>\n      <td>...</td>\n      <td>...</td>\n      <td>...</td>\n      <td>...</td>\n      <td>...</td>\n      <td>...</td>\n      <td>...</td>\n      <td>...</td>\n      <td>...</td>\n      <td>...</td>\n      <td>...</td>\n      <td>...</td>\n      <td>...</td>\n      <td>...</td>\n      <td>...</td>\n      <td>...</td>\n      <td>...</td>\n      <td>...</td>\n      <td>...</td>\n    </tr>\n    <tr>\n      <th>73637</th>\n      <td>ZWE</td>\n      <td>Africa</td>\n      <td>Zimbabwe</td>\n      <td>20/03/2020</td>\n      <td>1.0</td>\n      <td>1.0</td>\n      <td>NaN</td>\n      <td>NaN</td>\n      <td>NaN</td>\n      <td>NaN</td>\n      <td>...</td>\n      <td>1899.775</td>\n      <td>21.4</td>\n      <td>307.846</td>\n      <td>1.82</td>\n      <td>1.6</td>\n      <td>30.7</td>\n      <td>36.791</td>\n      <td>1.7</td>\n      <td>61.49</td>\n      <td>0.571</td>\n    </tr>\n    <tr>\n      <th>73638</th>\n      <td>ZWE</td>\n      <td>Africa</td>\n      <td>Zimbabwe</td>\n      <td>21/03/2020</td>\n      <td>3.0</td>\n      <td>2.0</td>\n      <td>NaN</td>\n      <td>NaN</td>\n      <td>NaN</td>\n      <td>NaN</td>\n      <td>...</td>\n      <td>1899.775</td>\n      <td>21.4</td>\n      <td>307.846</td>\n      <td>1.82</td>\n      <td>1.6</td>\n      <td>30.7</td>\n      <td>36.791</td>\n      <td>1.7</td>\n      <td>61.49</td>\n      <td>0.571</td>\n    </tr>\n    <tr>\n      <th>73639</th>\n      <td>ZWE</td>\n      <td>Africa</td>\n      <td>Zimbabwe</td>\n      <td>22/03/2020</td>\n      <td>3.0</td>\n      <td>0.0</td>\n      <td>NaN</td>\n      <td>NaN</td>\n      <td>NaN</td>\n      <td>NaN</td>\n      <td>...</td>\n      <td>1899.775</td>\n      <td>21.4</td>\n      <td>307.846</td>\n      <td>1.82</td>\n      <td>1.6</td>\n      <td>30.7</td>\n      <td>36.791</td>\n      <td>1.7</td>\n      <td>61.49</td>\n      <td>0.571</td>\n    </tr>\n    <tr>\n      <th>73640</th>\n      <td>ZWE</td>\n      <td>Africa</td>\n      <td>Zimbabwe</td>\n      <td>23/03/2020</td>\n      <td>3.0</td>\n      <td>0.0</td>\n      <td>NaN</td>\n      <td>1.0</td>\n      <td>1.0</td>\n      <td>NaN</td>\n      <td>...</td>\n      <td>1899.775</td>\n      <td>21.4</td>\n      <td>307.846</td>\n      <td>1.82</td>\n      <td>1.6</td>\n      <td>30.7</td>\n      <td>36.791</td>\n      <td>1.7</td>\n      <td>61.49</td>\n      <td>0.571</td>\n    </tr>\n    <tr>\n      <th>73641</th>\n      <td>ZWE</td>\n      <td>Africa</td>\n      <td>Zimbabwe</td>\n      <td>24/03/2020</td>\n      <td>3.0</td>\n      <td>0.0</td>\n      <td>NaN</td>\n      <td>1.0</td>\n      <td>0.0</td>\n      <td>NaN</td>\n      <td>...</td>\n      <td>1899.775</td>\n      <td>21.4</td>\n      <td>307.846</td>\n      <td>1.82</td>\n      <td>1.6</td>\n      <td>30.7</td>\n      <td>36.791</td>\n      <td>1.7</td>\n      <td>61.49</td>\n      <td>0.571</td>\n    </tr>\n  </tbody>\n</table>\n<p>1071 rows × 59 columns</p>\n</div>"
     },
     "metadata": {},
     "execution_count": 260
    }
   ],
   "source": [
    "grouped_df.head()"
   ]
  },
  {
   "cell_type": "code",
   "execution_count": null,
   "metadata": {},
   "outputs": [],
   "source": []
  }
 ]
}