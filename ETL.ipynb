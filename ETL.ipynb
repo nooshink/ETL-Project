{
 "metadata": {
  "language_info": {
   "codemirror_mode": {
    "name": "ipython",
    "version": 3
   },
   "file_extension": ".py",
   "mimetype": "text/x-python",
   "name": "python",
   "nbconvert_exporter": "python",
   "pygments_lexer": "ipython3",
   "version": "3.8.5-final"
  },
  "orig_nbformat": 2,
  "kernelspec": {
   "name": "python3",
   "display_name": "Python 3.8.5 64-bit (conda)",
   "metadata": {
    "interpreter": {
     "hash": "25dd71d175dacbdc7bc6f0737688b24d317e1ba140395f48d297e2109389b449"
    }
   }
  }
 },
 "nbformat": 4,
 "nbformat_minor": 2,
 "cells": [
  {
   "cell_type": "code",
   "execution_count": 2,
   "metadata": {},
   "outputs": [],
   "source": [
    "import matplotlib \n",
    "import pandas as pd\n",
    "import requests\n",
    "import seaborn\n",
    "import numpy as np\n"
   ]
  },
  {
   "cell_type": "code",
   "execution_count": 34,
   "metadata": {},
   "outputs": [],
   "source": []
  },
  {
   "cell_type": "code",
   "execution_count": 53,
   "metadata": {},
   "outputs": [],
   "source": [
    "df = pd.read_csv(\"global_data.csv\", parse_dates=[\"isodate\"], index_col=0)"
   ]
  },
  {
   "cell_type": "code",
   "execution_count": 54,
   "metadata": {},
   "outputs": [
    {
     "output_type": "execute_result",
     "data": {
      "text/plain": [
       "                country  confirmed  deaths  recovered\n",
       "isodate                                              \n",
       "2020-01-22  Afghanistan          0       0          0\n",
       "2020-01-22      Albania          0       0          0\n",
       "2020-01-22      Algeria          0       0          0\n",
       "2020-01-22      Andorra          0       0          0\n",
       "2020-01-22       Angola          0       0          0"
      ],
      "text/html": "<div>\n<style scoped>\n    .dataframe tbody tr th:only-of-type {\n        vertical-align: middle;\n    }\n\n    .dataframe tbody tr th {\n        vertical-align: top;\n    }\n\n    .dataframe thead th {\n        text-align: right;\n    }\n</style>\n<table border=\"1\" class=\"dataframe\">\n  <thead>\n    <tr style=\"text-align: right;\">\n      <th></th>\n      <th>country</th>\n      <th>confirmed</th>\n      <th>deaths</th>\n      <th>recovered</th>\n    </tr>\n    <tr>\n      <th>isodate</th>\n      <th></th>\n      <th></th>\n      <th></th>\n      <th></th>\n    </tr>\n  </thead>\n  <tbody>\n    <tr>\n      <th>2020-01-22</th>\n      <td>Afghanistan</td>\n      <td>0</td>\n      <td>0</td>\n      <td>0</td>\n    </tr>\n    <tr>\n      <th>2020-01-22</th>\n      <td>Albania</td>\n      <td>0</td>\n      <td>0</td>\n      <td>0</td>\n    </tr>\n    <tr>\n      <th>2020-01-22</th>\n      <td>Algeria</td>\n      <td>0</td>\n      <td>0</td>\n      <td>0</td>\n    </tr>\n    <tr>\n      <th>2020-01-22</th>\n      <td>Andorra</td>\n      <td>0</td>\n      <td>0</td>\n      <td>0</td>\n    </tr>\n    <tr>\n      <th>2020-01-22</th>\n      <td>Angola</td>\n      <td>0</td>\n      <td>0</td>\n      <td>0</td>\n    </tr>\n  </tbody>\n</table>\n</div>"
     },
     "metadata": {},
     "execution_count": 54
    }
   ],
   "source": [
    "df.head()"
   ]
  },
  {
   "cell_type": "code",
   "execution_count": 16,
   "metadata": {},
   "outputs": [
    {
     "output_type": "execute_result",
     "data": {
      "text/plain": [
       "                       country  confirmed  deaths  recovered\n",
       "isodate                                                     \n",
       "2021-01-11             Vietnam       1515      35       1361\n",
       "2021-01-11  West Bank and Gaza     148171    1614     132158\n",
       "2021-01-11               Yemen       2105     612       1416\n",
       "2021-01-11              Zambia      28596     471      20781\n",
       "2021-01-11            Zimbabwe      22297     528      13213"
      ],
      "text/html": "<div>\n<style scoped>\n    .dataframe tbody tr th:only-of-type {\n        vertical-align: middle;\n    }\n\n    .dataframe tbody tr th {\n        vertical-align: top;\n    }\n\n    .dataframe thead th {\n        text-align: right;\n    }\n</style>\n<table border=\"1\" class=\"dataframe\">\n  <thead>\n    <tr style=\"text-align: right;\">\n      <th></th>\n      <th>country</th>\n      <th>confirmed</th>\n      <th>deaths</th>\n      <th>recovered</th>\n    </tr>\n    <tr>\n      <th>isodate</th>\n      <th></th>\n      <th></th>\n      <th></th>\n      <th></th>\n    </tr>\n  </thead>\n  <tbody>\n    <tr>\n      <th>2021-01-11</th>\n      <td>Vietnam</td>\n      <td>1515</td>\n      <td>35</td>\n      <td>1361</td>\n    </tr>\n    <tr>\n      <th>2021-01-11</th>\n      <td>West Bank and Gaza</td>\n      <td>148171</td>\n      <td>1614</td>\n      <td>132158</td>\n    </tr>\n    <tr>\n      <th>2021-01-11</th>\n      <td>Yemen</td>\n      <td>2105</td>\n      <td>612</td>\n      <td>1416</td>\n    </tr>\n    <tr>\n      <th>2021-01-11</th>\n      <td>Zambia</td>\n      <td>28596</td>\n      <td>471</td>\n      <td>20781</td>\n    </tr>\n    <tr>\n      <th>2021-01-11</th>\n      <td>Zimbabwe</td>\n      <td>22297</td>\n      <td>528</td>\n      <td>13213</td>\n    </tr>\n  </tbody>\n</table>\n</div>"
     },
     "metadata": {},
     "execution_count": 16
    }
   ],
   "source": [
    "df.tail()"
   ]
  },
  {
   "cell_type": "code",
   "execution_count": 18,
   "metadata": {},
   "outputs": [
    {
     "output_type": "execute_result",
     "data": {
      "text/plain": [
       "          confirmed         deaths     recovered\n",
       "count  6.799600e+04   67996.000000  6.799600e+04\n",
       "mean   1.264336e+05    3589.347447  7.762093e+04\n",
       "std    7.667586e+05   17675.036719  4.663746e+05\n",
       "min    0.000000e+00       0.000000  0.000000e+00\n",
       "25%    5.600000e+01       0.000000  1.400000e+01\n",
       "50%    2.334500e+03      48.000000  1.127000e+03\n",
       "75%    3.122275e+04     586.000000  1.579725e+04\n",
       "max    2.262230e+07  376343.000000  1.011129e+07"
      ],
      "text/html": "<div>\n<style scoped>\n    .dataframe tbody tr th:only-of-type {\n        vertical-align: middle;\n    }\n\n    .dataframe tbody tr th {\n        vertical-align: top;\n    }\n\n    .dataframe thead th {\n        text-align: right;\n    }\n</style>\n<table border=\"1\" class=\"dataframe\">\n  <thead>\n    <tr style=\"text-align: right;\">\n      <th></th>\n      <th>confirmed</th>\n      <th>deaths</th>\n      <th>recovered</th>\n    </tr>\n  </thead>\n  <tbody>\n    <tr>\n      <th>count</th>\n      <td>6.799600e+04</td>\n      <td>67996.000000</td>\n      <td>6.799600e+04</td>\n    </tr>\n    <tr>\n      <th>mean</th>\n      <td>1.264336e+05</td>\n      <td>3589.347447</td>\n      <td>7.762093e+04</td>\n    </tr>\n    <tr>\n      <th>std</th>\n      <td>7.667586e+05</td>\n      <td>17675.036719</td>\n      <td>4.663746e+05</td>\n    </tr>\n    <tr>\n      <th>min</th>\n      <td>0.000000e+00</td>\n      <td>0.000000</td>\n      <td>0.000000e+00</td>\n    </tr>\n    <tr>\n      <th>25%</th>\n      <td>5.600000e+01</td>\n      <td>0.000000</td>\n      <td>1.400000e+01</td>\n    </tr>\n    <tr>\n      <th>50%</th>\n      <td>2.334500e+03</td>\n      <td>48.000000</td>\n      <td>1.127000e+03</td>\n    </tr>\n    <tr>\n      <th>75%</th>\n      <td>3.122275e+04</td>\n      <td>586.000000</td>\n      <td>1.579725e+04</td>\n    </tr>\n    <tr>\n      <th>max</th>\n      <td>2.262230e+07</td>\n      <td>376343.000000</td>\n      <td>1.011129e+07</td>\n    </tr>\n  </tbody>\n</table>\n</div>"
     },
     "metadata": {},
     "execution_count": 18
    }
   ],
   "source": [
    "df.describe()"
   ]
  },
  {
   "cell_type": "code",
   "execution_count": 19,
   "metadata": {},
   "outputs": [
    {
     "output_type": "execute_result",
     "data": {
      "text/plain": [
       "          confirmed         deaths     recovered\n",
       "count  5.889700e+04   58897.000000  5.889700e+04\n",
       "mean   1.459663e+05    4143.865885  8.961259e+04\n",
       "std    8.221294e+05   18930.758360  5.000336e+05\n",
       "min    1.000000e+00       0.000000  0.000000e+00\n",
       "25%    4.520000e+02       7.000000  1.270000e+02\n",
       "50%    4.813000e+03      83.000000  2.062000e+03\n",
       "75%    4.682900e+04     853.000000  2.336400e+04\n",
       "max    2.262230e+07  376343.000000  1.011129e+07"
      ],
      "text/html": "<div>\n<style scoped>\n    .dataframe tbody tr th:only-of-type {\n        vertical-align: middle;\n    }\n\n    .dataframe tbody tr th {\n        vertical-align: top;\n    }\n\n    .dataframe thead th {\n        text-align: right;\n    }\n</style>\n<table border=\"1\" class=\"dataframe\">\n  <thead>\n    <tr style=\"text-align: right;\">\n      <th></th>\n      <th>confirmed</th>\n      <th>deaths</th>\n      <th>recovered</th>\n    </tr>\n  </thead>\n  <tbody>\n    <tr>\n      <th>count</th>\n      <td>5.889700e+04</td>\n      <td>58897.000000</td>\n      <td>5.889700e+04</td>\n    </tr>\n    <tr>\n      <th>mean</th>\n      <td>1.459663e+05</td>\n      <td>4143.865885</td>\n      <td>8.961259e+04</td>\n    </tr>\n    <tr>\n      <th>std</th>\n      <td>8.221294e+05</td>\n      <td>18930.758360</td>\n      <td>5.000336e+05</td>\n    </tr>\n    <tr>\n      <th>min</th>\n      <td>1.000000e+00</td>\n      <td>0.000000</td>\n      <td>0.000000e+00</td>\n    </tr>\n    <tr>\n      <th>25%</th>\n      <td>4.520000e+02</td>\n      <td>7.000000</td>\n      <td>1.270000e+02</td>\n    </tr>\n    <tr>\n      <th>50%</th>\n      <td>4.813000e+03</td>\n      <td>83.000000</td>\n      <td>2.062000e+03</td>\n    </tr>\n    <tr>\n      <th>75%</th>\n      <td>4.682900e+04</td>\n      <td>853.000000</td>\n      <td>2.336400e+04</td>\n    </tr>\n    <tr>\n      <th>max</th>\n      <td>2.262230e+07</td>\n      <td>376343.000000</td>\n      <td>1.011129e+07</td>\n    </tr>\n  </tbody>\n</table>\n</div>"
     },
     "metadata": {},
     "execution_count": 19
    }
   ],
   "source": [
    "df = df[df[\"confirmed\"] > 0]\n",
    "df.describe()"
   ]
  },
  {
   "cell_type": "code",
   "execution_count": 20,
   "metadata": {},
   "outputs": [],
   "source": [
    "grouped_df = df.groupby(\"country\").max()"
   ]
  },
  {
   "cell_type": "code",
   "execution_count": 37,
   "metadata": {},
   "outputs": [
    {
     "output_type": "stream",
     "name": "stdout",
     "text": [
      "country\nUS                22622305\nIndia             10479179\nBrazil             8131612\nRussia             3389733\nUnited Kingdom     3127643\nFrance             2844680\nTurkey             2336476\nItaly              2289021\nSpain              2111782\nGermany            1941116\nName: confirmed, dtype: int64\n"
     ]
    }
   ],
   "source": [
    "print(grouped_df.sort_values(\"confirmed\", ascending=False)['confirmed'][:10])"
   ]
  },
  {
   "cell_type": "code",
   "execution_count": 23,
   "metadata": {},
   "outputs": [
    {
     "output_type": "stream",
     "name": "stdout",
     "text": [
      "country\nUS                376343\nBrazil            203580\nIndia             151327\nMexico            134368\nUnited Kingdom     82096\nItaly              79203\nFrance             68197\nRussia             61389\nIran               56262\nSpain              52275\nName: deaths, dtype: int64\n"
     ]
    }
   ],
   "source": [
    "print(grouped_df.sort_values(\"deaths\", ascending=False)[\"deaths\"][:10])"
   ]
  },
  {
   "cell_type": "code",
   "execution_count": 25,
   "metadata": {},
   "outputs": [
    {
     "output_type": "stream",
     "name": "stdout",
     "text": [
      "country\nIndia        10111294\nBrazil        7273237\nUS            6298082\nRussia        2771793\nTurkey        2208451\nItaly         1633839\nColombia      1632614\nGermany       1590171\nArgentina     1518715\nMexico        1160373\nName: recovered, dtype: int64\n"
     ]
    }
   ],
   "source": [
    "print(grouped_df.sort_values(\"recovered\", ascending=False)[\"recovered\"][:10])\n"
   ]
  },
  {
   "cell_type": "code",
   "execution_count": 38,
   "metadata": {},
   "outputs": [],
   "source": [
    "field = \"deaths\"\n",
    "resampled_df = df.resample(\"D\").sum()"
   ]
  },
  {
   "cell_type": "code",
   "execution_count": 39,
   "metadata": {},
   "outputs": [],
   "source": [
    "resampled_df[\"difference\"] = resampled_df[field].diff()\n",
    "resampled_df[\"change\"] = resampled_df[\"difference\"].pct_change()"
   ]
  },
  {
   "cell_type": "code",
   "execution_count": 40,
   "metadata": {},
   "outputs": [],
   "source": [
    "resampled_df.dropna(inplace=True)"
   ]
  },
  {
   "cell_type": "code",
   "execution_count": 41,
   "metadata": {},
   "outputs": [],
   "source": [
    "resampled_df[\"difference\"] = resampled_df[\"difference\"].apply(int)\n",
    "\n",
    "resampled_df[\"change\"] = resampled_df[\"change\"].apply(\n",
    "    lambda x: str(np.round(x * 100, 2)) + \"%\")"
   ]
  },
  {
   "cell_type": "code",
   "execution_count": 42,
   "metadata": {},
   "outputs": [
    {
     "output_type": "stream",
     "name": "stdout",
     "text": [
      "             deaths  difference   change\nisodate                                 \n2021-01-02  1835901        8246  -12.35%\n2021-01-03  1843211        7310  -11.35%\n2021-01-04  1853364       10153   38.89%\n2021-01-05  1868790       15426   51.94%\n2021-01-06  1883772       14982   -2.88%\n2021-01-07  1898648       14876   -0.71%\n2021-01-08  1913915       15267    2.63%\n2021-01-09  1926638       12723  -16.66%\n2021-01-10  1934805        8167  -35.81%\n2021-01-11  1945033       10228   25.24%\n"
     ]
    }
   ],
   "source": [
    "print(resampled_df[[field, \"difference\", \"change\"]][-10:])"
   ]
  },
  {
   "cell_type": "code",
   "execution_count": 44,
   "metadata": {},
   "outputs": [],
   "source": [
    "field = \"deaths\"\n",
    "country = \"Australia\"\n",
    "filtered_df = df[df[\"country\"] == country].copy()"
   ]
  },
  {
   "cell_type": "code",
   "execution_count": 45,
   "metadata": {},
   "outputs": [],
   "source": [
    "filtered_df[\"difference\"] = filtered_df[field].diff()\n",
    "filtered_df[\"change\"] = filtered_df[\"difference\"].pct_change()\n"
   ]
  },
  {
   "cell_type": "code",
   "execution_count": 46,
   "metadata": {},
   "outputs": [],
   "source": [
    "filtered_df.dropna(inplace=True)"
   ]
  },
  {
   "cell_type": "code",
   "execution_count": 47,
   "metadata": {},
   "outputs": [],
   "source": [
    "filtered_df[\"difference\"] = filtered_df[\"difference\"].apply(int)\n",
    "\n",
    "filtered_df[\"change\"] = filtered_df[\"change\"].apply(\n",
    "    lambda x: str(np.round(x * 100, 2)) + \"%\")"
   ]
  },
  {
   "cell_type": "code",
   "execution_count": 48,
   "metadata": {},
   "outputs": [
    {
     "output_type": "stream",
     "name": "stdout",
     "text": [
      "            deaths  difference   change\nisodate                                \n2020-10-13     904           5   400.0%\n2020-10-14     904           0  -100.0%\n2020-10-18     905           1     inf%\n2020-10-19     905           0  -100.0%\n2020-10-27     907           2     inf%\n2020-10-28     907           0  -100.0%\n2020-11-29     908           1     inf%\n2020-11-30     908           0  -100.0%\n2020-12-27     909           1     inf%\n2020-12-28     909           0  -100.0%\n"
     ]
    }
   ],
   "source": [
    "print(filtered_df[[field, \"difference\", \"change\"]][-10:])"
   ]
  },
  {
   "cell_type": "code",
   "execution_count": 5,
   "metadata": {},
   "outputs": [],
   "source": [
    "covid_data = pd.read_csv(\"covid_data_original.csv\")"
   ]
  },
  {
   "cell_type": "code",
   "execution_count": 7,
   "metadata": {},
   "outputs": [
    {
     "output_type": "execute_result",
     "data": {
      "text/plain": [
       "  iso_code continent     location        date  total_cases  new_cases  \\\n",
       "0      AFG      Asia  Afghanistan  24/02/2020          1.0        1.0   \n",
       "1      AFG      Asia  Afghanistan  25/02/2020          1.0        0.0   \n",
       "2      AFG      Asia  Afghanistan  26/02/2020          1.0        0.0   \n",
       "3      AFG      Asia  Afghanistan  27/02/2020          1.0        0.0   \n",
       "4      AFG      Asia  Afghanistan  28/02/2020          1.0        0.0   \n",
       "\n",
       "   new_cases_smoothed  total_deaths  new_deaths  new_deaths_smoothed  ...  \\\n",
       "0                 NaN           NaN         NaN                  NaN  ...   \n",
       "1                 NaN           NaN         NaN                  NaN  ...   \n",
       "2                 NaN           NaN         NaN                  NaN  ...   \n",
       "3                 NaN           NaN         NaN                  NaN  ...   \n",
       "4                 NaN           NaN         NaN                  NaN  ...   \n",
       "\n",
       "   gdp_per_capita  extreme_poverty  cardiovasc_death_rate  \\\n",
       "0        1803.987              NaN                597.029   \n",
       "1        1803.987              NaN                597.029   \n",
       "2        1803.987              NaN                597.029   \n",
       "3        1803.987              NaN                597.029   \n",
       "4        1803.987              NaN                597.029   \n",
       "\n",
       "   diabetes_prevalence  female_smokers  male_smokers  handwashing_facilities  \\\n",
       "0                 9.59             NaN           NaN                  37.746   \n",
       "1                 9.59             NaN           NaN                  37.746   \n",
       "2                 9.59             NaN           NaN                  37.746   \n",
       "3                 9.59             NaN           NaN                  37.746   \n",
       "4                 9.59             NaN           NaN                  37.746   \n",
       "\n",
       "   hospital_beds_per_thousand  life_expectancy  human_development_index  \n",
       "0                         0.5            64.83                    0.511  \n",
       "1                         0.5            64.83                    0.511  \n",
       "2                         0.5            64.83                    0.511  \n",
       "3                         0.5            64.83                    0.511  \n",
       "4                         0.5            64.83                    0.511  \n",
       "\n",
       "[5 rows x 59 columns]"
      ],
      "text/html": "<div>\n<style scoped>\n    .dataframe tbody tr th:only-of-type {\n        vertical-align: middle;\n    }\n\n    .dataframe tbody tr th {\n        vertical-align: top;\n    }\n\n    .dataframe thead th {\n        text-align: right;\n    }\n</style>\n<table border=\"1\" class=\"dataframe\">\n  <thead>\n    <tr style=\"text-align: right;\">\n      <th></th>\n      <th>iso_code</th>\n      <th>continent</th>\n      <th>location</th>\n      <th>date</th>\n      <th>total_cases</th>\n      <th>new_cases</th>\n      <th>new_cases_smoothed</th>\n      <th>total_deaths</th>\n      <th>new_deaths</th>\n      <th>new_deaths_smoothed</th>\n      <th>...</th>\n      <th>gdp_per_capita</th>\n      <th>extreme_poverty</th>\n      <th>cardiovasc_death_rate</th>\n      <th>diabetes_prevalence</th>\n      <th>female_smokers</th>\n      <th>male_smokers</th>\n      <th>handwashing_facilities</th>\n      <th>hospital_beds_per_thousand</th>\n      <th>life_expectancy</th>\n      <th>human_development_index</th>\n    </tr>\n  </thead>\n  <tbody>\n    <tr>\n      <th>0</th>\n      <td>AFG</td>\n      <td>Asia</td>\n      <td>Afghanistan</td>\n      <td>24/02/2020</td>\n      <td>1.0</td>\n      <td>1.0</td>\n      <td>NaN</td>\n      <td>NaN</td>\n      <td>NaN</td>\n      <td>NaN</td>\n      <td>...</td>\n      <td>1803.987</td>\n      <td>NaN</td>\n      <td>597.029</td>\n      <td>9.59</td>\n      <td>NaN</td>\n      <td>NaN</td>\n      <td>37.746</td>\n      <td>0.5</td>\n      <td>64.83</td>\n      <td>0.511</td>\n    </tr>\n    <tr>\n      <th>1</th>\n      <td>AFG</td>\n      <td>Asia</td>\n      <td>Afghanistan</td>\n      <td>25/02/2020</td>\n      <td>1.0</td>\n      <td>0.0</td>\n      <td>NaN</td>\n      <td>NaN</td>\n      <td>NaN</td>\n      <td>NaN</td>\n      <td>...</td>\n      <td>1803.987</td>\n      <td>NaN</td>\n      <td>597.029</td>\n      <td>9.59</td>\n      <td>NaN</td>\n      <td>NaN</td>\n      <td>37.746</td>\n      <td>0.5</td>\n      <td>64.83</td>\n      <td>0.511</td>\n    </tr>\n    <tr>\n      <th>2</th>\n      <td>AFG</td>\n      <td>Asia</td>\n      <td>Afghanistan</td>\n      <td>26/02/2020</td>\n      <td>1.0</td>\n      <td>0.0</td>\n      <td>NaN</td>\n      <td>NaN</td>\n      <td>NaN</td>\n      <td>NaN</td>\n      <td>...</td>\n      <td>1803.987</td>\n      <td>NaN</td>\n      <td>597.029</td>\n      <td>9.59</td>\n      <td>NaN</td>\n      <td>NaN</td>\n      <td>37.746</td>\n      <td>0.5</td>\n      <td>64.83</td>\n      <td>0.511</td>\n    </tr>\n    <tr>\n      <th>3</th>\n      <td>AFG</td>\n      <td>Asia</td>\n      <td>Afghanistan</td>\n      <td>27/02/2020</td>\n      <td>1.0</td>\n      <td>0.0</td>\n      <td>NaN</td>\n      <td>NaN</td>\n      <td>NaN</td>\n      <td>NaN</td>\n      <td>...</td>\n      <td>1803.987</td>\n      <td>NaN</td>\n      <td>597.029</td>\n      <td>9.59</td>\n      <td>NaN</td>\n      <td>NaN</td>\n      <td>37.746</td>\n      <td>0.5</td>\n      <td>64.83</td>\n      <td>0.511</td>\n    </tr>\n    <tr>\n      <th>4</th>\n      <td>AFG</td>\n      <td>Asia</td>\n      <td>Afghanistan</td>\n      <td>28/02/2020</td>\n      <td>1.0</td>\n      <td>0.0</td>\n      <td>NaN</td>\n      <td>NaN</td>\n      <td>NaN</td>\n      <td>NaN</td>\n      <td>...</td>\n      <td>1803.987</td>\n      <td>NaN</td>\n      <td>597.029</td>\n      <td>9.59</td>\n      <td>NaN</td>\n      <td>NaN</td>\n      <td>37.746</td>\n      <td>0.5</td>\n      <td>64.83</td>\n      <td>0.511</td>\n    </tr>\n  </tbody>\n</table>\n<p>5 rows × 59 columns</p>\n</div>"
     },
     "metadata": {},
     "execution_count": 7
    }
   ],
   "source": [
    "covid_data.head()\n"
   ]
  },
  {
   "cell_type": "code",
   "execution_count": null,
   "metadata": {},
   "outputs": [],
   "source": [
    "# df = df.drop(df.columns[[0, 1, 3]], axis=1)"
   ]
  },
  {
   "cell_type": "code",
   "execution_count": 18,
   "metadata": {},
   "outputs": [],
   "source": [
    "# dataset = pd.read_csv(input_file)\n",
    "df = pd.DataFrame(covid_data)\n",
    "df = df.drop(df.columns[[0, 1, 5,6,8,9,-5,-6,-9]], axis=1)\n",
    "# cols = [2,3,4,7,-1,-2,-3,-4,-7,-8]\n",
    "# df = df[df.columns[cols]]\n"
   ]
  },
  {
   "cell_type": "code",
   "execution_count": 19,
   "metadata": {},
   "outputs": [
    {
     "output_type": "execute_result",
     "data": {
      "text/plain": [
       "      location        date  total_cases  total_deaths  \\\n",
       "0  Afghanistan  24/02/2020          1.0           NaN   \n",
       "1  Afghanistan  25/02/2020          1.0           NaN   \n",
       "2  Afghanistan  26/02/2020          1.0           NaN   \n",
       "3  Afghanistan  27/02/2020          1.0           NaN   \n",
       "4  Afghanistan  28/02/2020          1.0           NaN   \n",
       "\n",
       "   total_cases_per_million  new_cases_per_million  \\\n",
       "0                    0.026                  0.026   \n",
       "1                    0.026                  0.000   \n",
       "2                    0.026                  0.000   \n",
       "3                    0.026                  0.000   \n",
       "4                    0.026                  0.000   \n",
       "\n",
       "   new_cases_smoothed_per_million  total_deaths_per_million  \\\n",
       "0                             NaN                       NaN   \n",
       "1                             NaN                       NaN   \n",
       "2                             NaN                       NaN   \n",
       "3                             NaN                       NaN   \n",
       "4                             NaN                       NaN   \n",
       "\n",
       "   new_deaths_per_million  new_deaths_smoothed_per_million  ...  median_age  \\\n",
       "0                     NaN                              NaN  ...        18.6   \n",
       "1                     NaN                              NaN  ...        18.6   \n",
       "2                     NaN                              NaN  ...        18.6   \n",
       "3                     NaN                              NaN  ...        18.6   \n",
       "4                     NaN                              NaN  ...        18.6   \n",
       "\n",
       "   aged_65_older  aged_70_older  gdp_per_capita  cardiovasc_death_rate  \\\n",
       "0          2.581          1.337        1803.987                597.029   \n",
       "1          2.581          1.337        1803.987                597.029   \n",
       "2          2.581          1.337        1803.987                597.029   \n",
       "3          2.581          1.337        1803.987                597.029   \n",
       "4          2.581          1.337        1803.987                597.029   \n",
       "\n",
       "   diabetes_prevalence  handwashing_facilities  hospital_beds_per_thousand  \\\n",
       "0                 9.59                  37.746                         0.5   \n",
       "1                 9.59                  37.746                         0.5   \n",
       "2                 9.59                  37.746                         0.5   \n",
       "3                 9.59                  37.746                         0.5   \n",
       "4                 9.59                  37.746                         0.5   \n",
       "\n",
       "   life_expectancy  human_development_index  \n",
       "0            64.83                    0.511  \n",
       "1            64.83                    0.511  \n",
       "2            64.83                    0.511  \n",
       "3            64.83                    0.511  \n",
       "4            64.83                    0.511  \n",
       "\n",
       "[5 rows x 50 columns]"
      ],
      "text/html": "<div>\n<style scoped>\n    .dataframe tbody tr th:only-of-type {\n        vertical-align: middle;\n    }\n\n    .dataframe tbody tr th {\n        vertical-align: top;\n    }\n\n    .dataframe thead th {\n        text-align: right;\n    }\n</style>\n<table border=\"1\" class=\"dataframe\">\n  <thead>\n    <tr style=\"text-align: right;\">\n      <th></th>\n      <th>location</th>\n      <th>date</th>\n      <th>total_cases</th>\n      <th>total_deaths</th>\n      <th>total_cases_per_million</th>\n      <th>new_cases_per_million</th>\n      <th>new_cases_smoothed_per_million</th>\n      <th>total_deaths_per_million</th>\n      <th>new_deaths_per_million</th>\n      <th>new_deaths_smoothed_per_million</th>\n      <th>...</th>\n      <th>median_age</th>\n      <th>aged_65_older</th>\n      <th>aged_70_older</th>\n      <th>gdp_per_capita</th>\n      <th>cardiovasc_death_rate</th>\n      <th>diabetes_prevalence</th>\n      <th>handwashing_facilities</th>\n      <th>hospital_beds_per_thousand</th>\n      <th>life_expectancy</th>\n      <th>human_development_index</th>\n    </tr>\n  </thead>\n  <tbody>\n    <tr>\n      <th>0</th>\n      <td>Afghanistan</td>\n      <td>24/02/2020</td>\n      <td>1.0</td>\n      <td>NaN</td>\n      <td>0.026</td>\n      <td>0.026</td>\n      <td>NaN</td>\n      <td>NaN</td>\n      <td>NaN</td>\n      <td>NaN</td>\n      <td>...</td>\n      <td>18.6</td>\n      <td>2.581</td>\n      <td>1.337</td>\n      <td>1803.987</td>\n      <td>597.029</td>\n      <td>9.59</td>\n      <td>37.746</td>\n      <td>0.5</td>\n      <td>64.83</td>\n      <td>0.511</td>\n    </tr>\n    <tr>\n      <th>1</th>\n      <td>Afghanistan</td>\n      <td>25/02/2020</td>\n      <td>1.0</td>\n      <td>NaN</td>\n      <td>0.026</td>\n      <td>0.000</td>\n      <td>NaN</td>\n      <td>NaN</td>\n      <td>NaN</td>\n      <td>NaN</td>\n      <td>...</td>\n      <td>18.6</td>\n      <td>2.581</td>\n      <td>1.337</td>\n      <td>1803.987</td>\n      <td>597.029</td>\n      <td>9.59</td>\n      <td>37.746</td>\n      <td>0.5</td>\n      <td>64.83</td>\n      <td>0.511</td>\n    </tr>\n    <tr>\n      <th>2</th>\n      <td>Afghanistan</td>\n      <td>26/02/2020</td>\n      <td>1.0</td>\n      <td>NaN</td>\n      <td>0.026</td>\n      <td>0.000</td>\n      <td>NaN</td>\n      <td>NaN</td>\n      <td>NaN</td>\n      <td>NaN</td>\n      <td>...</td>\n      <td>18.6</td>\n      <td>2.581</td>\n      <td>1.337</td>\n      <td>1803.987</td>\n      <td>597.029</td>\n      <td>9.59</td>\n      <td>37.746</td>\n      <td>0.5</td>\n      <td>64.83</td>\n      <td>0.511</td>\n    </tr>\n    <tr>\n      <th>3</th>\n      <td>Afghanistan</td>\n      <td>27/02/2020</td>\n      <td>1.0</td>\n      <td>NaN</td>\n      <td>0.026</td>\n      <td>0.000</td>\n      <td>NaN</td>\n      <td>NaN</td>\n      <td>NaN</td>\n      <td>NaN</td>\n      <td>...</td>\n      <td>18.6</td>\n      <td>2.581</td>\n      <td>1.337</td>\n      <td>1803.987</td>\n      <td>597.029</td>\n      <td>9.59</td>\n      <td>37.746</td>\n      <td>0.5</td>\n      <td>64.83</td>\n      <td>0.511</td>\n    </tr>\n    <tr>\n      <th>4</th>\n      <td>Afghanistan</td>\n      <td>28/02/2020</td>\n      <td>1.0</td>\n      <td>NaN</td>\n      <td>0.026</td>\n      <td>0.000</td>\n      <td>NaN</td>\n      <td>NaN</td>\n      <td>NaN</td>\n      <td>NaN</td>\n      <td>...</td>\n      <td>18.6</td>\n      <td>2.581</td>\n      <td>1.337</td>\n      <td>1803.987</td>\n      <td>597.029</td>\n      <td>9.59</td>\n      <td>37.746</td>\n      <td>0.5</td>\n      <td>64.83</td>\n      <td>0.511</td>\n    </tr>\n  </tbody>\n</table>\n<p>5 rows × 50 columns</p>\n</div>"
     },
     "metadata": {},
     "execution_count": 19
    }
   ],
   "source": [
    "df.head()\n"
   ]
  },
  {
   "cell_type": "code",
   "execution_count": 20,
   "metadata": {},
   "outputs": [],
   "source": [
    "df = df.drop(df.columns[[4, 5,6,7,8,9]], axis=1)"
   ]
  },
  {
   "cell_type": "code",
   "execution_count": 21,
   "metadata": {},
   "outputs": [
    {
     "output_type": "execute_result",
     "data": {
      "text/plain": [
       "      location        date  total_cases  total_deaths  reproduction_rate  \\\n",
       "0  Afghanistan  24/02/2020          1.0           NaN                NaN   \n",
       "1  Afghanistan  25/02/2020          1.0           NaN                NaN   \n",
       "2  Afghanistan  26/02/2020          1.0           NaN                NaN   \n",
       "3  Afghanistan  27/02/2020          1.0           NaN                NaN   \n",
       "4  Afghanistan  28/02/2020          1.0           NaN                NaN   \n",
       "\n",
       "   icu_patients  icu_patients_per_million  hosp_patients  \\\n",
       "0           NaN                       NaN            NaN   \n",
       "1           NaN                       NaN            NaN   \n",
       "2           NaN                       NaN            NaN   \n",
       "3           NaN                       NaN            NaN   \n",
       "4           NaN                       NaN            NaN   \n",
       "\n",
       "   hosp_patients_per_million  weekly_icu_admissions  ...  median_age  \\\n",
       "0                        NaN                    NaN  ...        18.6   \n",
       "1                        NaN                    NaN  ...        18.6   \n",
       "2                        NaN                    NaN  ...        18.6   \n",
       "3                        NaN                    NaN  ...        18.6   \n",
       "4                        NaN                    NaN  ...        18.6   \n",
       "\n",
       "   aged_65_older  aged_70_older  gdp_per_capita  cardiovasc_death_rate  \\\n",
       "0          2.581          1.337        1803.987                597.029   \n",
       "1          2.581          1.337        1803.987                597.029   \n",
       "2          2.581          1.337        1803.987                597.029   \n",
       "3          2.581          1.337        1803.987                597.029   \n",
       "4          2.581          1.337        1803.987                597.029   \n",
       "\n",
       "   diabetes_prevalence  handwashing_facilities  hospital_beds_per_thousand  \\\n",
       "0                 9.59                  37.746                         0.5   \n",
       "1                 9.59                  37.746                         0.5   \n",
       "2                 9.59                  37.746                         0.5   \n",
       "3                 9.59                  37.746                         0.5   \n",
       "4                 9.59                  37.746                         0.5   \n",
       "\n",
       "   life_expectancy  human_development_index  \n",
       "0            64.83                    0.511  \n",
       "1            64.83                    0.511  \n",
       "2            64.83                    0.511  \n",
       "3            64.83                    0.511  \n",
       "4            64.83                    0.511  \n",
       "\n",
       "[5 rows x 44 columns]"
      ],
      "text/html": "<div>\n<style scoped>\n    .dataframe tbody tr th:only-of-type {\n        vertical-align: middle;\n    }\n\n    .dataframe tbody tr th {\n        vertical-align: top;\n    }\n\n    .dataframe thead th {\n        text-align: right;\n    }\n</style>\n<table border=\"1\" class=\"dataframe\">\n  <thead>\n    <tr style=\"text-align: right;\">\n      <th></th>\n      <th>location</th>\n      <th>date</th>\n      <th>total_cases</th>\n      <th>total_deaths</th>\n      <th>reproduction_rate</th>\n      <th>icu_patients</th>\n      <th>icu_patients_per_million</th>\n      <th>hosp_patients</th>\n      <th>hosp_patients_per_million</th>\n      <th>weekly_icu_admissions</th>\n      <th>...</th>\n      <th>median_age</th>\n      <th>aged_65_older</th>\n      <th>aged_70_older</th>\n      <th>gdp_per_capita</th>\n      <th>cardiovasc_death_rate</th>\n      <th>diabetes_prevalence</th>\n      <th>handwashing_facilities</th>\n      <th>hospital_beds_per_thousand</th>\n      <th>life_expectancy</th>\n      <th>human_development_index</th>\n    </tr>\n  </thead>\n  <tbody>\n    <tr>\n      <th>0</th>\n      <td>Afghanistan</td>\n      <td>24/02/2020</td>\n      <td>1.0</td>\n      <td>NaN</td>\n      <td>NaN</td>\n      <td>NaN</td>\n      <td>NaN</td>\n      <td>NaN</td>\n      <td>NaN</td>\n      <td>NaN</td>\n      <td>...</td>\n      <td>18.6</td>\n      <td>2.581</td>\n      <td>1.337</td>\n      <td>1803.987</td>\n      <td>597.029</td>\n      <td>9.59</td>\n      <td>37.746</td>\n      <td>0.5</td>\n      <td>64.83</td>\n      <td>0.511</td>\n    </tr>\n    <tr>\n      <th>1</th>\n      <td>Afghanistan</td>\n      <td>25/02/2020</td>\n      <td>1.0</td>\n      <td>NaN</td>\n      <td>NaN</td>\n      <td>NaN</td>\n      <td>NaN</td>\n      <td>NaN</td>\n      <td>NaN</td>\n      <td>NaN</td>\n      <td>...</td>\n      <td>18.6</td>\n      <td>2.581</td>\n      <td>1.337</td>\n      <td>1803.987</td>\n      <td>597.029</td>\n      <td>9.59</td>\n      <td>37.746</td>\n      <td>0.5</td>\n      <td>64.83</td>\n      <td>0.511</td>\n    </tr>\n    <tr>\n      <th>2</th>\n      <td>Afghanistan</td>\n      <td>26/02/2020</td>\n      <td>1.0</td>\n      <td>NaN</td>\n      <td>NaN</td>\n      <td>NaN</td>\n      <td>NaN</td>\n      <td>NaN</td>\n      <td>NaN</td>\n      <td>NaN</td>\n      <td>...</td>\n      <td>18.6</td>\n      <td>2.581</td>\n      <td>1.337</td>\n      <td>1803.987</td>\n      <td>597.029</td>\n      <td>9.59</td>\n      <td>37.746</td>\n      <td>0.5</td>\n      <td>64.83</td>\n      <td>0.511</td>\n    </tr>\n    <tr>\n      <th>3</th>\n      <td>Afghanistan</td>\n      <td>27/02/2020</td>\n      <td>1.0</td>\n      <td>NaN</td>\n      <td>NaN</td>\n      <td>NaN</td>\n      <td>NaN</td>\n      <td>NaN</td>\n      <td>NaN</td>\n      <td>NaN</td>\n      <td>...</td>\n      <td>18.6</td>\n      <td>2.581</td>\n      <td>1.337</td>\n      <td>1803.987</td>\n      <td>597.029</td>\n      <td>9.59</td>\n      <td>37.746</td>\n      <td>0.5</td>\n      <td>64.83</td>\n      <td>0.511</td>\n    </tr>\n    <tr>\n      <th>4</th>\n      <td>Afghanistan</td>\n      <td>28/02/2020</td>\n      <td>1.0</td>\n      <td>NaN</td>\n      <td>NaN</td>\n      <td>NaN</td>\n      <td>NaN</td>\n      <td>NaN</td>\n      <td>NaN</td>\n      <td>NaN</td>\n      <td>...</td>\n      <td>18.6</td>\n      <td>2.581</td>\n      <td>1.337</td>\n      <td>1803.987</td>\n      <td>597.029</td>\n      <td>9.59</td>\n      <td>37.746</td>\n      <td>0.5</td>\n      <td>64.83</td>\n      <td>0.511</td>\n    </tr>\n  </tbody>\n</table>\n<p>5 rows × 44 columns</p>\n</div>"
     },
     "metadata": {},
     "execution_count": 21
    }
   ],
   "source": [
    "df.head()"
   ]
  },
  {
   "cell_type": "code",
   "execution_count": 22,
   "metadata": {},
   "outputs": [
    {
     "output_type": "execute_result",
     "data": {
      "text/plain": [
       "      location        date  total_cases  total_deaths  \\\n",
       "0  Afghanistan  24/02/2020          1.0           NaN   \n",
       "1  Afghanistan  25/02/2020          1.0           NaN   \n",
       "2  Afghanistan  26/02/2020          1.0           NaN   \n",
       "3  Afghanistan  27/02/2020          1.0           NaN   \n",
       "4  Afghanistan  28/02/2020          1.0           NaN   \n",
       "\n",
       "   weekly_icu_admissions_per_million  weekly_hosp_admissions  \\\n",
       "0                                NaN                     NaN   \n",
       "1                                NaN                     NaN   \n",
       "2                                NaN                     NaN   \n",
       "3                                NaN                     NaN   \n",
       "4                                NaN                     NaN   \n",
       "\n",
       "   weekly_hosp_admissions_per_million  new_tests  total_tests  \\\n",
       "0                                 NaN        NaN          NaN   \n",
       "1                                 NaN        NaN          NaN   \n",
       "2                                 NaN        NaN          NaN   \n",
       "3                                 NaN        NaN          NaN   \n",
       "4                                 NaN        NaN          NaN   \n",
       "\n",
       "   total_tests_per_thousand  ...  median_age  aged_65_older  aged_70_older  \\\n",
       "0                       NaN  ...        18.6          2.581          1.337   \n",
       "1                       NaN  ...        18.6          2.581          1.337   \n",
       "2                       NaN  ...        18.6          2.581          1.337   \n",
       "3                       NaN  ...        18.6          2.581          1.337   \n",
       "4                       NaN  ...        18.6          2.581          1.337   \n",
       "\n",
       "   gdp_per_capita  cardiovasc_death_rate diabetes_prevalence  \\\n",
       "0        1803.987                597.029                9.59   \n",
       "1        1803.987                597.029                9.59   \n",
       "2        1803.987                597.029                9.59   \n",
       "3        1803.987                597.029                9.59   \n",
       "4        1803.987                597.029                9.59   \n",
       "\n",
       "   handwashing_facilities  hospital_beds_per_thousand  life_expectancy  \\\n",
       "0                  37.746                         0.5            64.83   \n",
       "1                  37.746                         0.5            64.83   \n",
       "2                  37.746                         0.5            64.83   \n",
       "3                  37.746                         0.5            64.83   \n",
       "4                  37.746                         0.5            64.83   \n",
       "\n",
       "   human_development_index  \n",
       "0                    0.511  \n",
       "1                    0.511  \n",
       "2                    0.511  \n",
       "3                    0.511  \n",
       "4                    0.511  \n",
       "\n",
       "[5 rows x 38 columns]"
      ],
      "text/html": "<div>\n<style scoped>\n    .dataframe tbody tr th:only-of-type {\n        vertical-align: middle;\n    }\n\n    .dataframe tbody tr th {\n        vertical-align: top;\n    }\n\n    .dataframe thead th {\n        text-align: right;\n    }\n</style>\n<table border=\"1\" class=\"dataframe\">\n  <thead>\n    <tr style=\"text-align: right;\">\n      <th></th>\n      <th>location</th>\n      <th>date</th>\n      <th>total_cases</th>\n      <th>total_deaths</th>\n      <th>weekly_icu_admissions_per_million</th>\n      <th>weekly_hosp_admissions</th>\n      <th>weekly_hosp_admissions_per_million</th>\n      <th>new_tests</th>\n      <th>total_tests</th>\n      <th>total_tests_per_thousand</th>\n      <th>...</th>\n      <th>median_age</th>\n      <th>aged_65_older</th>\n      <th>aged_70_older</th>\n      <th>gdp_per_capita</th>\n      <th>cardiovasc_death_rate</th>\n      <th>diabetes_prevalence</th>\n      <th>handwashing_facilities</th>\n      <th>hospital_beds_per_thousand</th>\n      <th>life_expectancy</th>\n      <th>human_development_index</th>\n    </tr>\n  </thead>\n  <tbody>\n    <tr>\n      <th>0</th>\n      <td>Afghanistan</td>\n      <td>24/02/2020</td>\n      <td>1.0</td>\n      <td>NaN</td>\n      <td>NaN</td>\n      <td>NaN</td>\n      <td>NaN</td>\n      <td>NaN</td>\n      <td>NaN</td>\n      <td>NaN</td>\n      <td>...</td>\n      <td>18.6</td>\n      <td>2.581</td>\n      <td>1.337</td>\n      <td>1803.987</td>\n      <td>597.029</td>\n      <td>9.59</td>\n      <td>37.746</td>\n      <td>0.5</td>\n      <td>64.83</td>\n      <td>0.511</td>\n    </tr>\n    <tr>\n      <th>1</th>\n      <td>Afghanistan</td>\n      <td>25/02/2020</td>\n      <td>1.0</td>\n      <td>NaN</td>\n      <td>NaN</td>\n      <td>NaN</td>\n      <td>NaN</td>\n      <td>NaN</td>\n      <td>NaN</td>\n      <td>NaN</td>\n      <td>...</td>\n      <td>18.6</td>\n      <td>2.581</td>\n      <td>1.337</td>\n      <td>1803.987</td>\n      <td>597.029</td>\n      <td>9.59</td>\n      <td>37.746</td>\n      <td>0.5</td>\n      <td>64.83</td>\n      <td>0.511</td>\n    </tr>\n    <tr>\n      <th>2</th>\n      <td>Afghanistan</td>\n      <td>26/02/2020</td>\n      <td>1.0</td>\n      <td>NaN</td>\n      <td>NaN</td>\n      <td>NaN</td>\n      <td>NaN</td>\n      <td>NaN</td>\n      <td>NaN</td>\n      <td>NaN</td>\n      <td>...</td>\n      <td>18.6</td>\n      <td>2.581</td>\n      <td>1.337</td>\n      <td>1803.987</td>\n      <td>597.029</td>\n      <td>9.59</td>\n      <td>37.746</td>\n      <td>0.5</td>\n      <td>64.83</td>\n      <td>0.511</td>\n    </tr>\n    <tr>\n      <th>3</th>\n      <td>Afghanistan</td>\n      <td>27/02/2020</td>\n      <td>1.0</td>\n      <td>NaN</td>\n      <td>NaN</td>\n      <td>NaN</td>\n      <td>NaN</td>\n      <td>NaN</td>\n      <td>NaN</td>\n      <td>NaN</td>\n      <td>...</td>\n      <td>18.6</td>\n      <td>2.581</td>\n      <td>1.337</td>\n      <td>1803.987</td>\n      <td>597.029</td>\n      <td>9.59</td>\n      <td>37.746</td>\n      <td>0.5</td>\n      <td>64.83</td>\n      <td>0.511</td>\n    </tr>\n    <tr>\n      <th>4</th>\n      <td>Afghanistan</td>\n      <td>28/02/2020</td>\n      <td>1.0</td>\n      <td>NaN</td>\n      <td>NaN</td>\n      <td>NaN</td>\n      <td>NaN</td>\n      <td>NaN</td>\n      <td>NaN</td>\n      <td>NaN</td>\n      <td>...</td>\n      <td>18.6</td>\n      <td>2.581</td>\n      <td>1.337</td>\n      <td>1803.987</td>\n      <td>597.029</td>\n      <td>9.59</td>\n      <td>37.746</td>\n      <td>0.5</td>\n      <td>64.83</td>\n      <td>0.511</td>\n    </tr>\n  </tbody>\n</table>\n<p>5 rows × 38 columns</p>\n</div>"
     },
     "metadata": {},
     "execution_count": 22
    }
   ],
   "source": [
    "df = df.drop(df.columns[[4, 5,6,7,8,9]], axis=1)\n",
    "df.head()"
   ]
  },
  {
   "cell_type": "code",
   "execution_count": 23,
   "metadata": {},
   "outputs": [
    {
     "output_type": "execute_result",
     "data": {
      "text/plain": [
       "      location        date  total_cases  total_deaths  new_tests_per_thousand  \\\n",
       "0  Afghanistan  24/02/2020          1.0           NaN                     NaN   \n",
       "1  Afghanistan  25/02/2020          1.0           NaN                     NaN   \n",
       "2  Afghanistan  26/02/2020          1.0           NaN                     NaN   \n",
       "3  Afghanistan  27/02/2020          1.0           NaN                     NaN   \n",
       "4  Afghanistan  28/02/2020          1.0           NaN                     NaN   \n",
       "\n",
       "   new_tests_smoothed  new_tests_smoothed_per_thousand  positive_rate  \\\n",
       "0                 NaN                              NaN            NaN   \n",
       "1                 NaN                              NaN            NaN   \n",
       "2                 NaN                              NaN            NaN   \n",
       "3                 NaN                              NaN            NaN   \n",
       "4                 NaN                              NaN            NaN   \n",
       "\n",
       "   tests_per_case tests_units  ...  median_age  aged_65_older  aged_70_older  \\\n",
       "0             NaN         NaN  ...        18.6          2.581          1.337   \n",
       "1             NaN         NaN  ...        18.6          2.581          1.337   \n",
       "2             NaN         NaN  ...        18.6          2.581          1.337   \n",
       "3             NaN         NaN  ...        18.6          2.581          1.337   \n",
       "4             NaN         NaN  ...        18.6          2.581          1.337   \n",
       "\n",
       "   gdp_per_capita  cardiovasc_death_rate  diabetes_prevalence  \\\n",
       "0        1803.987                597.029                 9.59   \n",
       "1        1803.987                597.029                 9.59   \n",
       "2        1803.987                597.029                 9.59   \n",
       "3        1803.987                597.029                 9.59   \n",
       "4        1803.987                597.029                 9.59   \n",
       "\n",
       "   handwashing_facilities  hospital_beds_per_thousand  life_expectancy  \\\n",
       "0                  37.746                         0.5            64.83   \n",
       "1                  37.746                         0.5            64.83   \n",
       "2                  37.746                         0.5            64.83   \n",
       "3                  37.746                         0.5            64.83   \n",
       "4                  37.746                         0.5            64.83   \n",
       "\n",
       "   human_development_index  \n",
       "0                    0.511  \n",
       "1                    0.511  \n",
       "2                    0.511  \n",
       "3                    0.511  \n",
       "4                    0.511  \n",
       "\n",
       "[5 rows x 32 columns]"
      ],
      "text/html": "<div>\n<style scoped>\n    .dataframe tbody tr th:only-of-type {\n        vertical-align: middle;\n    }\n\n    .dataframe tbody tr th {\n        vertical-align: top;\n    }\n\n    .dataframe thead th {\n        text-align: right;\n    }\n</style>\n<table border=\"1\" class=\"dataframe\">\n  <thead>\n    <tr style=\"text-align: right;\">\n      <th></th>\n      <th>location</th>\n      <th>date</th>\n      <th>total_cases</th>\n      <th>total_deaths</th>\n      <th>new_tests_per_thousand</th>\n      <th>new_tests_smoothed</th>\n      <th>new_tests_smoothed_per_thousand</th>\n      <th>positive_rate</th>\n      <th>tests_per_case</th>\n      <th>tests_units</th>\n      <th>...</th>\n      <th>median_age</th>\n      <th>aged_65_older</th>\n      <th>aged_70_older</th>\n      <th>gdp_per_capita</th>\n      <th>cardiovasc_death_rate</th>\n      <th>diabetes_prevalence</th>\n      <th>handwashing_facilities</th>\n      <th>hospital_beds_per_thousand</th>\n      <th>life_expectancy</th>\n      <th>human_development_index</th>\n    </tr>\n  </thead>\n  <tbody>\n    <tr>\n      <th>0</th>\n      <td>Afghanistan</td>\n      <td>24/02/2020</td>\n      <td>1.0</td>\n      <td>NaN</td>\n      <td>NaN</td>\n      <td>NaN</td>\n      <td>NaN</td>\n      <td>NaN</td>\n      <td>NaN</td>\n      <td>NaN</td>\n      <td>...</td>\n      <td>18.6</td>\n      <td>2.581</td>\n      <td>1.337</td>\n      <td>1803.987</td>\n      <td>597.029</td>\n      <td>9.59</td>\n      <td>37.746</td>\n      <td>0.5</td>\n      <td>64.83</td>\n      <td>0.511</td>\n    </tr>\n    <tr>\n      <th>1</th>\n      <td>Afghanistan</td>\n      <td>25/02/2020</td>\n      <td>1.0</td>\n      <td>NaN</td>\n      <td>NaN</td>\n      <td>NaN</td>\n      <td>NaN</td>\n      <td>NaN</td>\n      <td>NaN</td>\n      <td>NaN</td>\n      <td>...</td>\n      <td>18.6</td>\n      <td>2.581</td>\n      <td>1.337</td>\n      <td>1803.987</td>\n      <td>597.029</td>\n      <td>9.59</td>\n      <td>37.746</td>\n      <td>0.5</td>\n      <td>64.83</td>\n      <td>0.511</td>\n    </tr>\n    <tr>\n      <th>2</th>\n      <td>Afghanistan</td>\n      <td>26/02/2020</td>\n      <td>1.0</td>\n      <td>NaN</td>\n      <td>NaN</td>\n      <td>NaN</td>\n      <td>NaN</td>\n      <td>NaN</td>\n      <td>NaN</td>\n      <td>NaN</td>\n      <td>...</td>\n      <td>18.6</td>\n      <td>2.581</td>\n      <td>1.337</td>\n      <td>1803.987</td>\n      <td>597.029</td>\n      <td>9.59</td>\n      <td>37.746</td>\n      <td>0.5</td>\n      <td>64.83</td>\n      <td>0.511</td>\n    </tr>\n    <tr>\n      <th>3</th>\n      <td>Afghanistan</td>\n      <td>27/02/2020</td>\n      <td>1.0</td>\n      <td>NaN</td>\n      <td>NaN</td>\n      <td>NaN</td>\n      <td>NaN</td>\n      <td>NaN</td>\n      <td>NaN</td>\n      <td>NaN</td>\n      <td>...</td>\n      <td>18.6</td>\n      <td>2.581</td>\n      <td>1.337</td>\n      <td>1803.987</td>\n      <td>597.029</td>\n      <td>9.59</td>\n      <td>37.746</td>\n      <td>0.5</td>\n      <td>64.83</td>\n      <td>0.511</td>\n    </tr>\n    <tr>\n      <th>4</th>\n      <td>Afghanistan</td>\n      <td>28/02/2020</td>\n      <td>1.0</td>\n      <td>NaN</td>\n      <td>NaN</td>\n      <td>NaN</td>\n      <td>NaN</td>\n      <td>NaN</td>\n      <td>NaN</td>\n      <td>NaN</td>\n      <td>...</td>\n      <td>18.6</td>\n      <td>2.581</td>\n      <td>1.337</td>\n      <td>1803.987</td>\n      <td>597.029</td>\n      <td>9.59</td>\n      <td>37.746</td>\n      <td>0.5</td>\n      <td>64.83</td>\n      <td>0.511</td>\n    </tr>\n  </tbody>\n</table>\n<p>5 rows × 32 columns</p>\n</div>"
     },
     "metadata": {},
     "execution_count": 23
    }
   ],
   "source": [
    "df = df.drop(df.columns[[4, 5,6,7,8,9]], axis=1)\n",
    "df.head()"
   ]
  },
  {
   "cell_type": "code",
   "execution_count": 24,
   "metadata": {},
   "outputs": [
    {
     "output_type": "execute_result",
     "data": {
      "text/plain": [
       "      location        date  total_cases  total_deaths  total_vaccinations  \\\n",
       "0  Afghanistan  24/02/2020          1.0           NaN                 NaN   \n",
       "1  Afghanistan  25/02/2020          1.0           NaN                 NaN   \n",
       "2  Afghanistan  26/02/2020          1.0           NaN                 NaN   \n",
       "3  Afghanistan  27/02/2020          1.0           NaN                 NaN   \n",
       "4  Afghanistan  28/02/2020          1.0           NaN                 NaN   \n",
       "\n",
       "   people_vaccinated  people_fully_vaccinated  new_vaccinations  \\\n",
       "0                NaN                      NaN               NaN   \n",
       "1                NaN                      NaN               NaN   \n",
       "2                NaN                      NaN               NaN   \n",
       "3                NaN                      NaN               NaN   \n",
       "4                NaN                      NaN               NaN   \n",
       "\n",
       "   new_vaccinations_smoothed  total_vaccinations_per_hundred  ...  median_age  \\\n",
       "0                        NaN                             NaN  ...        18.6   \n",
       "1                        NaN                             NaN  ...        18.6   \n",
       "2                        NaN                             NaN  ...        18.6   \n",
       "3                        NaN                             NaN  ...        18.6   \n",
       "4                        NaN                             NaN  ...        18.6   \n",
       "\n",
       "   aged_65_older  aged_70_older  gdp_per_capita cardiovasc_death_rate  \\\n",
       "0          2.581          1.337        1803.987               597.029   \n",
       "1          2.581          1.337        1803.987               597.029   \n",
       "2          2.581          1.337        1803.987               597.029   \n",
       "3          2.581          1.337        1803.987               597.029   \n",
       "4          2.581          1.337        1803.987               597.029   \n",
       "\n",
       "   diabetes_prevalence  handwashing_facilities  hospital_beds_per_thousand  \\\n",
       "0                 9.59                  37.746                         0.5   \n",
       "1                 9.59                  37.746                         0.5   \n",
       "2                 9.59                  37.746                         0.5   \n",
       "3                 9.59                  37.746                         0.5   \n",
       "4                 9.59                  37.746                         0.5   \n",
       "\n",
       "   life_expectancy  human_development_index  \n",
       "0            64.83                    0.511  \n",
       "1            64.83                    0.511  \n",
       "2            64.83                    0.511  \n",
       "3            64.83                    0.511  \n",
       "4            64.83                    0.511  \n",
       "\n",
       "[5 rows x 26 columns]"
      ],
      "text/html": "<div>\n<style scoped>\n    .dataframe tbody tr th:only-of-type {\n        vertical-align: middle;\n    }\n\n    .dataframe tbody tr th {\n        vertical-align: top;\n    }\n\n    .dataframe thead th {\n        text-align: right;\n    }\n</style>\n<table border=\"1\" class=\"dataframe\">\n  <thead>\n    <tr style=\"text-align: right;\">\n      <th></th>\n      <th>location</th>\n      <th>date</th>\n      <th>total_cases</th>\n      <th>total_deaths</th>\n      <th>total_vaccinations</th>\n      <th>people_vaccinated</th>\n      <th>people_fully_vaccinated</th>\n      <th>new_vaccinations</th>\n      <th>new_vaccinations_smoothed</th>\n      <th>total_vaccinations_per_hundred</th>\n      <th>...</th>\n      <th>median_age</th>\n      <th>aged_65_older</th>\n      <th>aged_70_older</th>\n      <th>gdp_per_capita</th>\n      <th>cardiovasc_death_rate</th>\n      <th>diabetes_prevalence</th>\n      <th>handwashing_facilities</th>\n      <th>hospital_beds_per_thousand</th>\n      <th>life_expectancy</th>\n      <th>human_development_index</th>\n    </tr>\n  </thead>\n  <tbody>\n    <tr>\n      <th>0</th>\n      <td>Afghanistan</td>\n      <td>24/02/2020</td>\n      <td>1.0</td>\n      <td>NaN</td>\n      <td>NaN</td>\n      <td>NaN</td>\n      <td>NaN</td>\n      <td>NaN</td>\n      <td>NaN</td>\n      <td>NaN</td>\n      <td>...</td>\n      <td>18.6</td>\n      <td>2.581</td>\n      <td>1.337</td>\n      <td>1803.987</td>\n      <td>597.029</td>\n      <td>9.59</td>\n      <td>37.746</td>\n      <td>0.5</td>\n      <td>64.83</td>\n      <td>0.511</td>\n    </tr>\n    <tr>\n      <th>1</th>\n      <td>Afghanistan</td>\n      <td>25/02/2020</td>\n      <td>1.0</td>\n      <td>NaN</td>\n      <td>NaN</td>\n      <td>NaN</td>\n      <td>NaN</td>\n      <td>NaN</td>\n      <td>NaN</td>\n      <td>NaN</td>\n      <td>...</td>\n      <td>18.6</td>\n      <td>2.581</td>\n      <td>1.337</td>\n      <td>1803.987</td>\n      <td>597.029</td>\n      <td>9.59</td>\n      <td>37.746</td>\n      <td>0.5</td>\n      <td>64.83</td>\n      <td>0.511</td>\n    </tr>\n    <tr>\n      <th>2</th>\n      <td>Afghanistan</td>\n      <td>26/02/2020</td>\n      <td>1.0</td>\n      <td>NaN</td>\n      <td>NaN</td>\n      <td>NaN</td>\n      <td>NaN</td>\n      <td>NaN</td>\n      <td>NaN</td>\n      <td>NaN</td>\n      <td>...</td>\n      <td>18.6</td>\n      <td>2.581</td>\n      <td>1.337</td>\n      <td>1803.987</td>\n      <td>597.029</td>\n      <td>9.59</td>\n      <td>37.746</td>\n      <td>0.5</td>\n      <td>64.83</td>\n      <td>0.511</td>\n    </tr>\n    <tr>\n      <th>3</th>\n      <td>Afghanistan</td>\n      <td>27/02/2020</td>\n      <td>1.0</td>\n      <td>NaN</td>\n      <td>NaN</td>\n      <td>NaN</td>\n      <td>NaN</td>\n      <td>NaN</td>\n      <td>NaN</td>\n      <td>NaN</td>\n      <td>...</td>\n      <td>18.6</td>\n      <td>2.581</td>\n      <td>1.337</td>\n      <td>1803.987</td>\n      <td>597.029</td>\n      <td>9.59</td>\n      <td>37.746</td>\n      <td>0.5</td>\n      <td>64.83</td>\n      <td>0.511</td>\n    </tr>\n    <tr>\n      <th>4</th>\n      <td>Afghanistan</td>\n      <td>28/02/2020</td>\n      <td>1.0</td>\n      <td>NaN</td>\n      <td>NaN</td>\n      <td>NaN</td>\n      <td>NaN</td>\n      <td>NaN</td>\n      <td>NaN</td>\n      <td>NaN</td>\n      <td>...</td>\n      <td>18.6</td>\n      <td>2.581</td>\n      <td>1.337</td>\n      <td>1803.987</td>\n      <td>597.029</td>\n      <td>9.59</td>\n      <td>37.746</td>\n      <td>0.5</td>\n      <td>64.83</td>\n      <td>0.511</td>\n    </tr>\n  </tbody>\n</table>\n<p>5 rows × 26 columns</p>\n</div>"
     },
     "metadata": {},
     "execution_count": 24
    }
   ],
   "source": [
    "df = df.drop(df.columns[[4, 5,6,7,8,9]], axis=1)\n",
    "df.head()"
   ]
  },
  {
   "cell_type": "code",
   "execution_count": 25,
   "metadata": {},
   "outputs": [
    {
     "output_type": "execute_result",
     "data": {
      "text/plain": [
       "      location        date  total_cases  total_deaths  \\\n",
       "0  Afghanistan  24/02/2020          1.0           NaN   \n",
       "1  Afghanistan  25/02/2020          1.0           NaN   \n",
       "2  Afghanistan  26/02/2020          1.0           NaN   \n",
       "3  Afghanistan  27/02/2020          1.0           NaN   \n",
       "4  Afghanistan  28/02/2020          1.0           NaN   \n",
       "\n",
       "   people_vaccinated_per_hundred  people_fully_vaccinated_per_hundred  \\\n",
       "0                            NaN                                  NaN   \n",
       "1                            NaN                                  NaN   \n",
       "2                            NaN                                  NaN   \n",
       "3                            NaN                                  NaN   \n",
       "4                            NaN                                  NaN   \n",
       "\n",
       "   new_vaccinations_smoothed_per_million  stringency_index population  \\\n",
       "0                                    NaN              8.33   38928341   \n",
       "1                                    NaN              8.33   38928341   \n",
       "2                                    NaN              8.33   38928341   \n",
       "3                                    NaN              8.33   38928341   \n",
       "4                                    NaN              8.33   38928341   \n",
       "\n",
       "   population_density  median_age  aged_65_older  aged_70_older  \\\n",
       "0              54.422        18.6          2.581          1.337   \n",
       "1              54.422        18.6          2.581          1.337   \n",
       "2              54.422        18.6          2.581          1.337   \n",
       "3              54.422        18.6          2.581          1.337   \n",
       "4              54.422        18.6          2.581          1.337   \n",
       "\n",
       "   gdp_per_capita  cardiovasc_death_rate  diabetes_prevalence  \\\n",
       "0        1803.987                597.029                 9.59   \n",
       "1        1803.987                597.029                 9.59   \n",
       "2        1803.987                597.029                 9.59   \n",
       "3        1803.987                597.029                 9.59   \n",
       "4        1803.987                597.029                 9.59   \n",
       "\n",
       "   handwashing_facilities  hospital_beds_per_thousand  life_expectancy  \\\n",
       "0                  37.746                         0.5            64.83   \n",
       "1                  37.746                         0.5            64.83   \n",
       "2                  37.746                         0.5            64.83   \n",
       "3                  37.746                         0.5            64.83   \n",
       "4                  37.746                         0.5            64.83   \n",
       "\n",
       "   human_development_index  \n",
       "0                    0.511  \n",
       "1                    0.511  \n",
       "2                    0.511  \n",
       "3                    0.511  \n",
       "4                    0.511  "
      ],
      "text/html": "<div>\n<style scoped>\n    .dataframe tbody tr th:only-of-type {\n        vertical-align: middle;\n    }\n\n    .dataframe tbody tr th {\n        vertical-align: top;\n    }\n\n    .dataframe thead th {\n        text-align: right;\n    }\n</style>\n<table border=\"1\" class=\"dataframe\">\n  <thead>\n    <tr style=\"text-align: right;\">\n      <th></th>\n      <th>location</th>\n      <th>date</th>\n      <th>total_cases</th>\n      <th>total_deaths</th>\n      <th>people_vaccinated_per_hundred</th>\n      <th>people_fully_vaccinated_per_hundred</th>\n      <th>new_vaccinations_smoothed_per_million</th>\n      <th>stringency_index</th>\n      <th>population</th>\n      <th>population_density</th>\n      <th>median_age</th>\n      <th>aged_65_older</th>\n      <th>aged_70_older</th>\n      <th>gdp_per_capita</th>\n      <th>cardiovasc_death_rate</th>\n      <th>diabetes_prevalence</th>\n      <th>handwashing_facilities</th>\n      <th>hospital_beds_per_thousand</th>\n      <th>life_expectancy</th>\n      <th>human_development_index</th>\n    </tr>\n  </thead>\n  <tbody>\n    <tr>\n      <th>0</th>\n      <td>Afghanistan</td>\n      <td>24/02/2020</td>\n      <td>1.0</td>\n      <td>NaN</td>\n      <td>NaN</td>\n      <td>NaN</td>\n      <td>NaN</td>\n      <td>8.33</td>\n      <td>38928341</td>\n      <td>54.422</td>\n      <td>18.6</td>\n      <td>2.581</td>\n      <td>1.337</td>\n      <td>1803.987</td>\n      <td>597.029</td>\n      <td>9.59</td>\n      <td>37.746</td>\n      <td>0.5</td>\n      <td>64.83</td>\n      <td>0.511</td>\n    </tr>\n    <tr>\n      <th>1</th>\n      <td>Afghanistan</td>\n      <td>25/02/2020</td>\n      <td>1.0</td>\n      <td>NaN</td>\n      <td>NaN</td>\n      <td>NaN</td>\n      <td>NaN</td>\n      <td>8.33</td>\n      <td>38928341</td>\n      <td>54.422</td>\n      <td>18.6</td>\n      <td>2.581</td>\n      <td>1.337</td>\n      <td>1803.987</td>\n      <td>597.029</td>\n      <td>9.59</td>\n      <td>37.746</td>\n      <td>0.5</td>\n      <td>64.83</td>\n      <td>0.511</td>\n    </tr>\n    <tr>\n      <th>2</th>\n      <td>Afghanistan</td>\n      <td>26/02/2020</td>\n      <td>1.0</td>\n      <td>NaN</td>\n      <td>NaN</td>\n      <td>NaN</td>\n      <td>NaN</td>\n      <td>8.33</td>\n      <td>38928341</td>\n      <td>54.422</td>\n      <td>18.6</td>\n      <td>2.581</td>\n      <td>1.337</td>\n      <td>1803.987</td>\n      <td>597.029</td>\n      <td>9.59</td>\n      <td>37.746</td>\n      <td>0.5</td>\n      <td>64.83</td>\n      <td>0.511</td>\n    </tr>\n    <tr>\n      <th>3</th>\n      <td>Afghanistan</td>\n      <td>27/02/2020</td>\n      <td>1.0</td>\n      <td>NaN</td>\n      <td>NaN</td>\n      <td>NaN</td>\n      <td>NaN</td>\n      <td>8.33</td>\n      <td>38928341</td>\n      <td>54.422</td>\n      <td>18.6</td>\n      <td>2.581</td>\n      <td>1.337</td>\n      <td>1803.987</td>\n      <td>597.029</td>\n      <td>9.59</td>\n      <td>37.746</td>\n      <td>0.5</td>\n      <td>64.83</td>\n      <td>0.511</td>\n    </tr>\n    <tr>\n      <th>4</th>\n      <td>Afghanistan</td>\n      <td>28/02/2020</td>\n      <td>1.0</td>\n      <td>NaN</td>\n      <td>NaN</td>\n      <td>NaN</td>\n      <td>NaN</td>\n      <td>8.33</td>\n      <td>38928341</td>\n      <td>54.422</td>\n      <td>18.6</td>\n      <td>2.581</td>\n      <td>1.337</td>\n      <td>1803.987</td>\n      <td>597.029</td>\n      <td>9.59</td>\n      <td>37.746</td>\n      <td>0.5</td>\n      <td>64.83</td>\n      <td>0.511</td>\n    </tr>\n  </tbody>\n</table>\n</div>"
     },
     "metadata": {},
     "execution_count": 25
    }
   ],
   "source": [
    "df = df.drop(df.columns[[4, 5,6,7,8,9]], axis=1)\n",
    "df.head()"
   ]
  },
  {
   "cell_type": "code",
   "execution_count": 26,
   "metadata": {},
   "outputs": [
    {
     "output_type": "execute_result",
     "data": {
      "text/plain": [
       "      location        date  total_cases  total_deaths  stringency_index  \\\n",
       "0  Afghanistan  24/02/2020          1.0           NaN              8.33   \n",
       "1  Afghanistan  25/02/2020          1.0           NaN              8.33   \n",
       "2  Afghanistan  26/02/2020          1.0           NaN              8.33   \n",
       "3  Afghanistan  27/02/2020          1.0           NaN              8.33   \n",
       "4  Afghanistan  28/02/2020          1.0           NaN              8.33   \n",
       "\n",
       "  population  population_density  median_age  aged_65_older  aged_70_older  \\\n",
       "0   38928341              54.422        18.6          2.581          1.337   \n",
       "1   38928341              54.422        18.6          2.581          1.337   \n",
       "2   38928341              54.422        18.6          2.581          1.337   \n",
       "3   38928341              54.422        18.6          2.581          1.337   \n",
       "4   38928341              54.422        18.6          2.581          1.337   \n",
       "\n",
       "   gdp_per_capita  cardiovasc_death_rate  diabetes_prevalence  \\\n",
       "0        1803.987                597.029                 9.59   \n",
       "1        1803.987                597.029                 9.59   \n",
       "2        1803.987                597.029                 9.59   \n",
       "3        1803.987                597.029                 9.59   \n",
       "4        1803.987                597.029                 9.59   \n",
       "\n",
       "   handwashing_facilities  hospital_beds_per_thousand  life_expectancy  \\\n",
       "0                  37.746                         0.5            64.83   \n",
       "1                  37.746                         0.5            64.83   \n",
       "2                  37.746                         0.5            64.83   \n",
       "3                  37.746                         0.5            64.83   \n",
       "4                  37.746                         0.5            64.83   \n",
       "\n",
       "   human_development_index  \n",
       "0                    0.511  \n",
       "1                    0.511  \n",
       "2                    0.511  \n",
       "3                    0.511  \n",
       "4                    0.511  "
      ],
      "text/html": "<div>\n<style scoped>\n    .dataframe tbody tr th:only-of-type {\n        vertical-align: middle;\n    }\n\n    .dataframe tbody tr th {\n        vertical-align: top;\n    }\n\n    .dataframe thead th {\n        text-align: right;\n    }\n</style>\n<table border=\"1\" class=\"dataframe\">\n  <thead>\n    <tr style=\"text-align: right;\">\n      <th></th>\n      <th>location</th>\n      <th>date</th>\n      <th>total_cases</th>\n      <th>total_deaths</th>\n      <th>stringency_index</th>\n      <th>population</th>\n      <th>population_density</th>\n      <th>median_age</th>\n      <th>aged_65_older</th>\n      <th>aged_70_older</th>\n      <th>gdp_per_capita</th>\n      <th>cardiovasc_death_rate</th>\n      <th>diabetes_prevalence</th>\n      <th>handwashing_facilities</th>\n      <th>hospital_beds_per_thousand</th>\n      <th>life_expectancy</th>\n      <th>human_development_index</th>\n    </tr>\n  </thead>\n  <tbody>\n    <tr>\n      <th>0</th>\n      <td>Afghanistan</td>\n      <td>24/02/2020</td>\n      <td>1.0</td>\n      <td>NaN</td>\n      <td>8.33</td>\n      <td>38928341</td>\n      <td>54.422</td>\n      <td>18.6</td>\n      <td>2.581</td>\n      <td>1.337</td>\n      <td>1803.987</td>\n      <td>597.029</td>\n      <td>9.59</td>\n      <td>37.746</td>\n      <td>0.5</td>\n      <td>64.83</td>\n      <td>0.511</td>\n    </tr>\n    <tr>\n      <th>1</th>\n      <td>Afghanistan</td>\n      <td>25/02/2020</td>\n      <td>1.0</td>\n      <td>NaN</td>\n      <td>8.33</td>\n      <td>38928341</td>\n      <td>54.422</td>\n      <td>18.6</td>\n      <td>2.581</td>\n      <td>1.337</td>\n      <td>1803.987</td>\n      <td>597.029</td>\n      <td>9.59</td>\n      <td>37.746</td>\n      <td>0.5</td>\n      <td>64.83</td>\n      <td>0.511</td>\n    </tr>\n    <tr>\n      <th>2</th>\n      <td>Afghanistan</td>\n      <td>26/02/2020</td>\n      <td>1.0</td>\n      <td>NaN</td>\n      <td>8.33</td>\n      <td>38928341</td>\n      <td>54.422</td>\n      <td>18.6</td>\n      <td>2.581</td>\n      <td>1.337</td>\n      <td>1803.987</td>\n      <td>597.029</td>\n      <td>9.59</td>\n      <td>37.746</td>\n      <td>0.5</td>\n      <td>64.83</td>\n      <td>0.511</td>\n    </tr>\n    <tr>\n      <th>3</th>\n      <td>Afghanistan</td>\n      <td>27/02/2020</td>\n      <td>1.0</td>\n      <td>NaN</td>\n      <td>8.33</td>\n      <td>38928341</td>\n      <td>54.422</td>\n      <td>18.6</td>\n      <td>2.581</td>\n      <td>1.337</td>\n      <td>1803.987</td>\n      <td>597.029</td>\n      <td>9.59</td>\n      <td>37.746</td>\n      <td>0.5</td>\n      <td>64.83</td>\n      <td>0.511</td>\n    </tr>\n    <tr>\n      <th>4</th>\n      <td>Afghanistan</td>\n      <td>28/02/2020</td>\n      <td>1.0</td>\n      <td>NaN</td>\n      <td>8.33</td>\n      <td>38928341</td>\n      <td>54.422</td>\n      <td>18.6</td>\n      <td>2.581</td>\n      <td>1.337</td>\n      <td>1803.987</td>\n      <td>597.029</td>\n      <td>9.59</td>\n      <td>37.746</td>\n      <td>0.5</td>\n      <td>64.83</td>\n      <td>0.511</td>\n    </tr>\n  </tbody>\n</table>\n</div>"
     },
     "metadata": {},
     "execution_count": 26
    }
   ],
   "source": [
    "df = df.drop(df.columns[[4, 5,6,]], axis=1)\n",
    "df.head()"
   ]
  },
  {
   "cell_type": "code",
   "execution_count": null,
   "metadata": {},
   "outputs": [],
   "source": []
  }
 ]
}